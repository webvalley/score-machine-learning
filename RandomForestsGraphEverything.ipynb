{
 "cells": [
  {
   "cell_type": "code",
   "execution_count": null,
   "metadata": {
    "tags": [
     "parameters"
    ]
   },
   "outputs": [],
   "source": [
    "exp_dir = \"firstfourth_lab\""
   ]
  },
  {
   "cell_type": "code",
   "execution_count": null,
   "metadata": {},
   "outputs": [],
   "source": [
    "from bokeh.plotting import figure\n",
    "from bokeh.io import curdoc, show, output_notebook\n",
    "from bokeh.resources import CDN\n",
    "import seaborn as sn\n",
    "import pandas as pd\n",
    "from matplotlib import pyplot as plt\n",
    "from RandomForestFeatureRanking import generate_graphs, generate_data\n",
    "import warnings\n",
    "warnings.filterwarnings(\"ignore\")\n",
    "output_notebook(CDN)\n",
    "\n",
    "data_path = \"/datadrive/random_forests_clinical_data/\"\n",
    "csv_path = \"/home/webvalley/score-machine-learning/Data/new_wScore.csv\"\n",
    "COLUMNS_BLACK_LIST = ['SCORE', 'esa_obi:sbp', 'esa_obi:dbp',\n",
    "                      'ana_fis:smoking_recod', 'lab:glucose',\n",
    "                      'lab:calculated_ldl',\n",
    "                      'lab:total_cholesterol',\n",
    "                      'ana:age']\n",
    "headDic = {\"lab\":\"lab:\", \"anapat\": \"ana_pat:\", \"esaobi\": \"esa_obi:\", \"ulttsa\": \"ult_tsa:\"}"
   ]
  },
  {
   "cell_type": "code",
   "execution_count": null,
   "metadata": {},
   "outputs": [],
   "source": [
    "fc, br, cols, conf = generate_data(exp_dir)"
   ]
  },
  {
   "cell_type": "code",
   "execution_count": null,
   "metadata": {},
   "outputs": [],
   "source": [
    "fc"
   ]
  },
  {
   "cell_type": "code",
   "execution_count": null,
   "metadata": {},
   "outputs": [],
   "source": [
    "generate_graphs(fc, br, cols, exp_dir)"
   ]
  },
  {
   "cell_type": "code",
   "execution_count": null,
   "metadata": {},
   "outputs": [],
   "source": [
    "for i in range(5):\n",
    "    df_cm = pd.DataFrame(conf[i], index = [\"Low\", \"Low-Med\", \"Med-High\", \"High\"], columns = [\"Low\", \"Low-Med\", \"Med-High\", \"High\"])\n",
    "    plt.figure(figsize = (10,7))\n",
    "    sn.heatmap(df_cm, annot=True)"
   ]
  },
  {
   "cell_type": "code",
   "execution_count": null,
   "metadata": {},
   "outputs": [],
   "source": []
  }
 ],
 "metadata": {
  "celltoolbar": "Tags",
  "kernelspec": {
   "display_name": "Python 3.6 (MLPY)",
   "language": "python",
   "name": "mlpy"
  },
  "language_info": {
   "codemirror_mode": {
    "name": "ipython",
    "version": 3
   },
   "file_extension": ".py",
   "mimetype": "text/x-python",
   "name": "python",
   "nbconvert_exporter": "python",
   "pygments_lexer": "ipython3",
   "version": "3.6.8"
  }
 },
 "nbformat": 4,
 "nbformat_minor": 2
}
