{
 "cells": [
  {
   "cell_type": "code",
   "execution_count": null,
   "metadata": {
    "tags": [
     "parameters"
    ]
   },
   "outputs": [],
   "source": [
    "exp_dir = \"firstfourth_lab\""
   ]
  },
  {
   "cell_type": "code",
   "execution_count": null,
   "metadata": {},
   "outputs": [],
   "source": [
    "do_imports()"
   ]
  },
  {
   "cell_type": "code",
   "execution_count": null,
   "metadata": {},
   "outputs": [],
   "source": [
    "data_path = \"/datadrive/random_forests_clinical_data/\"\n",
    "csv_path = \"/home/webvalley/score-machine-learning/Data/new_wScore.csv\"\n",
    "COLUMNS_BLACK_LIST = ['SCORE', 'esa_obi:sbp', 'esa_obi:dbp',\n",
    "                      'ana_fis:smoking_recod', 'lab:glucose',\n",
    "                      'lab:calculated_ldl',\n",
    "                      'lab:total_cholesterol',\n",
    "                      'ana:age']\n",
    "headDic = {\"lab\":\"lab:\", \"anapat\": \"ana_pat:\", \"esaobi\": \"esa_obi:\", \"ulttsa\": \"ult_tsa:\"}"
   ]
  },
  {
   "cell_type": "code",
   "execution_count": null,
   "metadata": {},
   "outputs": [],
   "source": [
    "def read_data(csv_data_file):\n",
    "    df = pd.read_csv(csv_data_file)\n",
    "    df.sort_values(\"visit\")\n",
    "    df = df.select_dtypes(exclude=['object', 'datetime64'])\n",
    "    df = df.drop(labels=COLUMNS_BLACK_LIST, axis=1)\n",
    "    # Get rid of all columns with all -1 (NaN) and/or Zeros\n",
    "    df = df[df.columns[df.max() > 0]]\n",
    "    return df\n",
    "def get_relevant_columns(foldername):\n",
    "    heads = []\n",
    "    for key in headDic:\n",
    "        if key in foldername:\n",
    "            heads.append(headDic[key])\n",
    "    return heads\n",
    "def select_columns_set(df, features_set):\n",
    "    features = list(features_set)\n",
    "    return df.columns[df.columns.str.startswith(tuple(features))].values"
   ]
  },
  {
   "cell_type": "code",
   "execution_count": null,
   "metadata": {},
   "outputs": [],
   "source": [
    "def bootstrap_ci(x, B=1000, alpha=0.05, seed=42):\n",
    "    \"\"\"Computes the (1-alpha) Bootstrap confidence interval\n",
    "    from empirical bootstrap distribution of sample mean.\n",
    "\n",
    "    The lower and upper confidence bounds are the (B*alpha/2)-th\n",
    "    and B * (1-alpha/2)-th ordered means, respectively.\n",
    "    For B = 1000 and alpha = 0.05 these are the 25th and 975th\n",
    "    ordered means.\n",
    "    \"\"\"\n",
    "\n",
    "    x_arr = np.ravel(x)\n",
    "\n",
    "    if B < 2:\n",
    "        raise ValueError(\"B must be >= 2\")\n",
    "\n",
    "    if alpha < 0 or alpha > 1:\n",
    "        raise ValueError(\"alpha must be in [0, 1]\")\n",
    "\n",
    "    np.random.seed(seed)\n",
    "\n",
    "    bmean = np.empty(B, dtype=np.float)\n",
    "    for b in range(B):\n",
    "        idx = np.random.random_integers(0, x_arr.shape[0]-1, x_arr.shape[0])\n",
    "        bmean[b] = np.mean(x_arr[idx])\n",
    "\n",
    "    bmean.sort()\n",
    "    lower = int(B * (alpha * 0.5))\n",
    "    upper = int(B * (1 - (alpha * 0.5)))\n",
    "\n",
    "    return (bmean[lower], bmean[upper])"
   ]
  },
  {
   "cell_type": "code",
   "execution_count": null,
   "metadata": {},
   "outputs": [],
   "source": [
    "f = IntProgress(min=0, max=250, description='Loading... ', bar_style='success')\n",
    "display(f)\n",
    "\n",
    "feature_list = get_relevant_columns(exp_dir)\n",
    "cols = select_columns_set(read_data(csv_path), feature_list)\n",
    "folder_path = os.path.join(data_path, exp_dir)\n",
    "feature_importance = np.zeros((5, 50, len(cols)))\n",
    "for i in range(5):\n",
    "    forest_path = os.path.join(folder_path, str(i))\n",
    "    for forest_file in os.listdir(forest_path):\n",
    "        if forest_file.endswith('pkl') and 'training' not in forest_file:\n",
    "            forest_file_path = os.path.join(forest_path, forest_file)\n",
    "            clf = pickle.load(open(forest_file_path, \"rb\"))\n",
    "            feature_importance[i,f.value%50] = clf.feature_importances_\n",
    "            f.value += 1"
   ]
  },
  {
   "cell_type": "code",
   "execution_count": null,
   "metadata": {},
   "outputs": [],
   "source": [
    "borda_rankings = []\n",
    "for importance in feature_importance:\n",
    "    borda = borda_count((np.argsort(importance)))[0]\n",
    "    borda_rankings.append(borda)"
   ]
  },
  {
   "cell_type": "code",
   "execution_count": null,
   "metadata": {},
   "outputs": [],
   "source": [
    "feature_confidence = np.zeros((5,len(cols),2))\n",
    "for i in range(5):\n",
    "    for j in range(len(cols)):\n",
    "        f_imp = feature_importance[i, :, j]\n",
    "        f_min_max = bootstrap_ci(f_imp)\n",
    "        f_mean = np.mean(f_min_max)\n",
    "        f_error = f_min_max[1] - f_mean\n",
    "        feature_confidence[i,j] = (f_mean, f_error)"
   ]
  },
  {
   "cell_type": "code",
   "execution_count": null,
   "metadata": {},
   "outputs": [],
   "source": [
    "for i, confidence in enumerate(feature_confidence):\n",
    "    fig = plt.figure()\n",
    "    plt.title(\"Confidence in Experiment: \" + exp_dir + \"Trial: \" + str(i+1))\n",
    "    plt.barh(range(1,11), confidence[:,0][borda_rankings[i]][-10:], xerr=confidence[:,1][borda_rankings[i]][-10:])\n",
    "    plt.yticks(range(1, 11), labels=cols[borda_rankings[i]][-10:])\n",
    "    plt.savefig(os.path.join(folder_path, str(i) + \"figure.png\"), bbox_inches='tight')\n",
    "    plt.show()"
   ]
  },
  {
   "cell_type": "code",
   "execution_count": null,
   "metadata": {},
   "outputs": [],
   "source": [
    "from bokeh.plotting import figure\n",
    "from bokeh.io import curdoc, show, output_notebook\n",
    "from bokeh.resources import CDN\n",
    "output_notebook(CDN)"
   ]
  },
  {
   "cell_type": "code",
   "execution_count": null,
   "metadata": {},
   "outputs": [],
   "source": [
    "for i, confidence in enumerate(feature_confidence):\n",
    "    fig = figure(y_range = cols[borda_rankings[i]][-10:], plot_height=250, title= exp_dir + \" Categorical Importance Run: \" + str(i+1))\n",
    "    fig.hbar(y = cols[borda_rankings[i]][-10:], right = confidence[:,0][borda_rankings[i]][-10:], height=0.2)\n",
    "    show(fig)"
   ]
  },
  {
   "cell_type": "code",
   "execution_count": null,
   "metadata": {},
   "outputs": [],
   "source": [
    "reshaped_importanced = feature_importance.reshape((250, len(cols)))\n",
    "borda = borda_count((np.argsort(reshaped_importanced)))[0]\n",
    "feature_confidence = np.zeros((len(cols),2))\n",
    "for j in range(len(cols)):\n",
    "    f_imp = reshaped_importanced[:, j]\n",
    "    f_min_max = bootstrap_ci(f_imp)\n",
    "    f_mean = np.mean(f_min_max)\n",
    "    f_error = f_min_max[1] - f_mean\n",
    "    feature_confidence[j] = (f_mean, f_error)"
   ]
  },
  {
   "cell_type": "code",
   "execution_count": null,
   "metadata": {},
   "outputs": [],
   "source": [
    "fig = plt.figure()\n",
    "plt.title(\"Total Confidence in Experiment: \" + exp_dir)\n",
    "plt.barh(range(1,11), feature_confidence[:,0][borda][-10:], xerr=feature_confidence[:,1][borda][-10:])\n",
    "plt.yticks(range(1, 11), labels=cols[borda][-10:])\n",
    "plt.savefig(os.path.join(folder_path,\"total_figure.png\"), bbox_inches='tight')\n",
    "plt.show()"
   ]
  },
  {
   "cell_type": "code",
   "execution_count": null,
   "metadata": {},
   "outputs": [],
   "source": []
  }
 ],
 "metadata": {
  "celltoolbar": "Tags",
  "kernelspec": {
   "display_name": "Python 3.6 (MLPY)",
   "language": "python",
   "name": "mlpy"
  },
  "language_info": {
   "codemirror_mode": {
    "name": "ipython",
    "version": 3
   },
   "file_extension": ".py",
   "mimetype": "text/x-python",
   "name": "python",
   "nbconvert_exporter": "python",
   "pygments_lexer": "ipython3",
   "version": "3.6.8"
  }
 },
 "nbformat": 4,
 "nbformat_minor": 2
}
