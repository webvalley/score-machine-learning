{
 "cells": [
  {
   "cell_type": "code",
   "execution_count": 2,
   "metadata": {
    "tags": [
     "parameters"
    ]
   },
   "outputs": [],
   "source": [
    "exp_dir = \"firstfourth_lab\""
   ]
  },
  {
   "cell_type": "code",
   "execution_count": 3,
   "metadata": {},
   "outputs": [],
   "source": [
    "do_imports()"
   ]
  },
  {
   "cell_type": "code",
   "execution_count": 4,
   "metadata": {},
   "outputs": [],
   "source": [
    "data_path = \"/datadrive/random_forests_clinical_data/\"\n",
    "csv_path = \"/home/webvalley/score-machine-learning/Data/new_wScore.csv\"\n",
    "COLUMNS_BLACK_LIST = ['SCORE', 'esa_obi:sbp', 'esa_obi:dbp',\n",
    "                      'ana_fis:smoking_recod', 'lab:glucose',\n",
    "                      'lab:calculated_ldl',\n",
    "                      'lab:total_cholesterol',\n",
    "                      'ana:age']\n",
    "headDic = {\"lab\":\"lab:\", \"anapat\": \"ana_pat:\", \"esaobi\": \"esa_obi:\", \"ulttsa\": \"ult_tsa:\"}"
   ]
  },
  {
   "cell_type": "code",
   "execution_count": 5,
   "metadata": {},
   "outputs": [],
   "source": [
    "def read_data(csv_data_file):\n",
    "    df = pd.read_csv(csv_data_file)\n",
    "    df.sort_values(\"visit\")\n",
    "    df = df.select_dtypes(exclude=['object', 'datetime64'])\n",
    "    df = df.drop(labels=COLUMNS_BLACK_LIST, axis=1)\n",
    "    # Get rid of all columns with all -1 (NaN) and/or Zeros\n",
    "    df = df[df.columns[df.max() > 0]]\n",
    "    return df\n",
    "def get_relevant_columns(foldername):\n",
    "    heads = []\n",
    "    for key in headDic:\n",
    "        if key in foldername:\n",
    "            heads.append(headDic[key])\n",
    "    return heads\n",
    "def select_columns_set(df, features_set):\n",
    "    features = list(features_set)\n",
    "    return df.columns[df.columns.str.startswith(tuple(features))].values"
   ]
  },
  {
   "cell_type": "code",
   "execution_count": 6,
   "metadata": {},
   "outputs": [],
   "source": [
    "def bootstrap_ci(x, B=1000, alpha=0.05, seed=42):\n",
    "    \"\"\"Computes the (1-alpha) Bootstrap confidence interval\n",
    "    from empirical bootstrap distribution of sample mean.\n",
    "\n",
    "    The lower and upper confidence bounds are the (B*alpha/2)-th\n",
    "    and B * (1-alpha/2)-th ordered means, respectively.\n",
    "    For B = 1000 and alpha = 0.05 these are the 25th and 975th\n",
    "    ordered means.\n",
    "    \"\"\"\n",
    "\n",
    "    x_arr = np.ravel(x)\n",
    "\n",
    "    if B < 2:\n",
    "        raise ValueError(\"B must be >= 2\")\n",
    "\n",
    "    if alpha < 0 or alpha > 1:\n",
    "        raise ValueError(\"alpha must be in [0, 1]\")\n",
    "\n",
    "    np.random.seed(seed)\n",
    "\n",
    "    bmean = np.empty(B, dtype=np.float)\n",
    "    for b in range(B):\n",
    "        idx = np.random.random_integers(0, x_arr.shape[0]-1, x_arr.shape[0])\n",
    "        bmean[b] = np.mean(x_arr[idx])\n",
    "\n",
    "    bmean.sort()\n",
    "    lower = int(B * (alpha * 0.5))\n",
    "    upper = int(B * (1 - (alpha * 0.5)))\n",
    "\n",
    "    return (bmean[lower], bmean[upper])"
   ]
  },
  {
   "cell_type": "code",
   "execution_count": 7,
   "metadata": {},
   "outputs": [
    {
     "data": {
      "application/vnd.jupyter.widget-view+json": {
       "model_id": "9c3c102a58544a1db087f07760d6b492",
       "version_major": 2,
       "version_minor": 0
      },
      "text/plain": [
       "IntProgress(value=0, bar_style='success', description='Loading... ', max=250)"
      ]
     },
     "metadata": {},
     "output_type": "display_data"
    },
    {
     "name": "stderr",
     "output_type": "stream",
     "text": [
      "/home/webvalley/anaconda3/envs/mlpy/lib/python3.6/site-packages/IPython/core/interactiveshell.py:3248: DtypeWarning: Columns (125,222,223) have mixed types. Specify dtype option on import or set low_memory=False.\n",
      "  if (await self.run_code(code, result,  async_=asy)):\n",
      "/home/webvalley/anaconda3/envs/mlpy/lib/python3.6/site-packages/sklearn/base.py:306: UserWarning: Trying to unpickle estimator DecisionTreeClassifier from version 0.20.3 when using version 0.21.2. This might lead to breaking code or invalid results. Use at your own risk.\n",
      "  UserWarning)\n",
      "/home/webvalley/anaconda3/envs/mlpy/lib/python3.6/site-packages/sklearn/base.py:306: UserWarning: Trying to unpickle estimator RandomForestClassifier from version 0.20.3 when using version 0.21.2. This might lead to breaking code or invalid results. Use at your own risk.\n",
      "  UserWarning)\n"
     ]
    }
   ],
   "source": [
    "f = IntProgress(min=0, max=250, description='Loading... ', bar_style='success')\n",
    "display(f)\n",
    "\n",
    "feature_list = get_relevant_columns(exp_dir)\n",
    "cols = select_columns_set(read_data(csv_path), feature_list)\n",
    "folder_path = os.path.join(data_path, exp_dir)\n",
    "feature_importance = np.zeros((5, 50, len(cols)))\n",
    "for i in range(5):\n",
    "    forest_path = os.path.join(folder_path, str(i))\n",
    "    for forest_file in os.listdir(forest_path):\n",
    "        if forest_file.endswith('pkl') and 'training' not in forest_file:\n",
    "            forest_file_path = os.path.join(forest_path, forest_file)\n",
    "            clf = pickle.load(open(forest_file_path, \"rb\"))\n",
    "            feature_importance[i,f.value%50] = clf.feature_importances_\n",
    "            f.value += 1"
   ]
  },
  {
   "cell_type": "code",
   "execution_count": 8,
   "metadata": {},
   "outputs": [],
   "source": [
    "borda_rankings = []\n",
    "for importance in feature_importance:\n",
    "    borda = borda_count((np.argsort(importance)))[0]\n",
    "    borda_rankings.append(borda)"
   ]
  },
  {
   "cell_type": "code",
   "execution_count": 9,
   "metadata": {},
   "outputs": [
    {
     "name": "stderr",
     "output_type": "stream",
     "text": [
      "/home/webvalley/anaconda3/envs/mlpy/lib/python3.6/site-packages/ipykernel_launcher.py:23: DeprecationWarning: This function is deprecated. Please call randint(0, 49 + 1) instead\n"
     ]
    }
   ],
   "source": [
    "feature_confidence = np.zeros((5,len(cols),2))\n",
    "for i in range(5):\n",
    "    for j in range(len(cols)):\n",
    "        f_imp = feature_importance[i, :, j]\n",
    "        f_min_max = bootstrap_ci(f_imp)\n",
    "        f_mean = np.mean(f_min_max)\n",
    "        f_error = f_min_max[1] - f_mean\n",
    "        feature_confidence[i,j] = (f_mean, f_error)"
   ]
  },
  {
   "cell_type": "code",
   "execution_count": 47,
   "metadata": {},
   "outputs": [
    {
     "data": {
      "image/png": "[encoded data removed]",
      "text/plain": [
       "<Figure size 432x288 with 1 Axes>"
      ]
     },
     "metadata": {
      "needs_background": "light"
     },
     "output_type": "display_data"
    },
    {
     "data": {
      "image/png": "[encoded data removed]",
      "text/plain": [
       "<Figure size 432x288 with 1 Axes>"
      ]
     },
     "metadata": {
      "needs_background": "light"
     },
     "output_type": "display_data"
    },
    {
     "data": {
      "image/png": "[encoded data removed]",
      "text/plain": [
       "<Figure size 432x288 with 1 Axes>"
      ]
     },
     "metadata": {
      "needs_background": "light"
     },
     "output_type": "display_data"
    },
    {
     "data": {
      "image/png": "[encoded data removed]",
      "text/plain": [
       "<Figure size 432x288 with 1 Axes>"
      ]
     },
     "metadata": {
      "needs_background": "light"
     },
     "output_type": "display_data"
    },
    {
     "data": {
      "image/png": "[encoded data removed]",
      "text/plain": [
       "<Figure size 432x288 with 1 Axes>"
      ]
     },
     "metadata": {
      "needs_background": "light"
     },
     "output_type": "display_data"
    }
   ],
   "source": [
    "for i, confidence in enumerate(feature_confidence):\n",
    "    fig = plt.figure()\n",
    "    plt.title(\"Confidence in Experiment: \" + exp_dir + \"Trial: \" + str(i+1))\n",
    "    plt.barh(range(1,11), confidence[:,0][borda_rankings[i]][-10:], xerr=confidence[:,1][borda_rankings[i]][-10:])\n",
    "    plt.yticks(range(1, 11), labels=cols[borda_rankings[i]][-10:])\n",
    "    plt.savefig(os.path.join(folder_path, str(i) + \"figure.png\"), bbox_inches='tight')\n",
    "    plt.show()"
   ]
  },
  {
   "cell_type": "code",
   "execution_count": 18,
   "metadata": {},
   "outputs": [
    {
     "data": {
      "text/html": [
       "\n",
       "    <div class=\"bk-root\">\n",
       "        <a href=\"https://bokeh.pydata.org\" target=\"_blank\" class=\"bk-logo bk-logo-small bk-logo-notebook\"></a>\n",
       "        <span id=\"7590\">Loading BokehJS ...</span>\n",
       "    </div>"
      ]
     },
     "metadata": {},
     "output_type": "display_data"
    },
    {
     "data": {
      "application/javascript": [
       "\n",
       "(function(root) {\n",
       "  function now() {\n",
       "    return new Date();\n",
       "  }\n",
       "\n",
       "  var force = true;\n",
       "\n",
       "  if (typeof root._bokeh_onload_callbacks === \"undefined\" || force === true) {\n",
       "    root._bokeh_onload_callbacks = [];\n",
       "    root._bokeh_is_loading = undefined;\n",
       "  }\n",
       "\n",
       "  var JS_MIME_TYPE = 'application/javascript';\n",
       "  var HTML_MIME_TYPE = 'text/html';\n",
       "  var EXEC_MIME_TYPE = 'application/vnd.bokehjs_exec.v0+json';\n",
       "  var CLASS_NAME = 'output_bokeh rendered_html';\n",
       "\n",
       "  /**\n",
       "   * Render data to the DOM node\n",
       "   */\n",
       "  function render(props, node) {\n",
       "    var script = document.createElement(\"script\");\n",
       "    node.appendChild(script);\n",
       "  }\n",
       "\n",
       "  /**\n",
       "   * Handle when an output is cleared or removed\n",
       "   */\n",
       "  function handleClearOutput(event, handle) {\n",
       "    var cell = handle.cell;\n",
       "\n",
       "    var id = cell.output_area._bokeh_element_id;\n",
       "    var server_id = cell.output_area._bokeh_server_id;\n",
       "    // Clean up Bokeh references\n",
       "    if (id != null && id in Bokeh.index) {\n",
       "      Bokeh.index[id].model.document.clear();\n",
       "      delete Bokeh.index[id];\n",
       "    }\n",
       "\n",
       "    if (server_id !== undefined) {\n",
       "      // Clean up Bokeh references\n",
       "      var cmd = \"from bokeh.io.state import curstate; print(curstate().uuid_to_server['\" + server_id + \"'].get_sessions()[0].document.roots[0]._id)\";\n",
       "      cell.notebook.kernel.execute(cmd, {\n",
       "        iopub: {\n",
       "          output: function(msg) {\n",
       "            var id = msg.content.text.trim();\n",
       "            if (id in Bokeh.index) {\n",
       "              Bokeh.index[id].model.document.clear();\n",
       "              delete Bokeh.index[id];\n",
       "            }\n",
       "          }\n",
       "        }\n",
       "      });\n",
       "      // Destroy server and session\n",
       "      var cmd = \"import bokeh.io.notebook as ion; ion.destroy_server('\" + server_id + \"')\";\n",
       "      cell.notebook.kernel.execute(cmd);\n",
       "    }\n",
       "  }\n",
       "\n",
       "  /**\n",
       "   * Handle when a new output is added\n",
       "   */\n",
       "  function handleAddOutput(event, handle) {\n",
       "    var output_area = handle.output_area;\n",
       "    var output = handle.output;\n",
       "\n",
       "    // limit handleAddOutput to display_data with EXEC_MIME_TYPE content only\n",
       "    if ((output.output_type != \"display_data\") || (!output.data.hasOwnProperty(EXEC_MIME_TYPE))) {\n",
       "      return\n",
       "    }\n",
       "\n",
       "    var toinsert = output_area.element.find(\".\" + CLASS_NAME.split(' ')[0]);\n",
       "\n",
       "    if (output.metadata[EXEC_MIME_TYPE][\"id\"] !== undefined) {\n",
       "      toinsert[toinsert.length - 1].firstChild.textContent = output.data[JS_MIME_TYPE];\n",
       "      // store reference to embed id on output_area\n",
       "      output_area._bokeh_element_id = output.metadata[EXEC_MIME_TYPE][\"id\"];\n",
       "    }\n",
       "    if (output.metadata[EXEC_MIME_TYPE][\"server_id\"] !== undefined) {\n",
       "      var bk_div = document.createElement(\"div\");\n",
       "      bk_div.innerHTML = output.data[HTML_MIME_TYPE];\n",
       "      var script_attrs = bk_div.children[0].attributes;\n",
       "      for (var i = 0; i < script_attrs.length; i++) {\n",
       "        toinsert[toinsert.length - 1].firstChild.setAttribute(script_attrs[i].name, script_attrs[i].value);\n",
       "      }\n",
       "      // store reference to server id on output_area\n",
       "      output_area._bokeh_server_id = output.metadata[EXEC_MIME_TYPE][\"server_id\"];\n",
       "    }\n",
       "  }\n",
       "\n",
       "  function register_renderer(events, OutputArea) {\n",
       "\n",
       "    function append_mime(data, metadata, element) {\n",
       "      // create a DOM node to render to\n",
       "      var toinsert = this.create_output_subarea(\n",
       "        metadata,\n",
       "        CLASS_NAME,\n",
       "        EXEC_MIME_TYPE\n",
       "      );\n",
       "      this.keyboard_manager.register_events(toinsert);\n",
       "      // Render to node\n",
       "      var props = {data: data, metadata: metadata[EXEC_MIME_TYPE]};\n",
       "      render(props, toinsert[toinsert.length - 1]);\n",
       "      element.append(toinsert);\n",
       "      return toinsert\n",
       "    }\n",
       "\n",
       "    /* Handle when an output is cleared or removed */\n",
       "    events.on('clear_output.CodeCell', handleClearOutput);\n",
       "    events.on('delete.Cell', handleClearOutput);\n",
       "\n",
       "    /* Handle when a new output is added */\n",
       "    events.on('output_added.OutputArea', handleAddOutput);\n",
       "\n",
       "    /**\n",
       "     * Register the mime type and append_mime function with output_area\n",
       "     */\n",
       "    OutputArea.prototype.register_mime_type(EXEC_MIME_TYPE, append_mime, {\n",
       "      /* Is output safe? */\n",
       "      safe: true,\n",
       "      /* Index of renderer in `output_area.display_order` */\n",
       "      index: 0\n",
       "    });\n",
       "  }\n",
       "\n",
       "  // register the mime type if in Jupyter Notebook environment and previously unregistered\n",
       "  if (root.Jupyter !== undefined) {\n",
       "    var events = require('base/js/events');\n",
       "    var OutputArea = require('notebook/js/outputarea').OutputArea;\n",
       "\n",
       "    if (OutputArea.prototype.mime_types().indexOf(EXEC_MIME_TYPE) == -1) {\n",
       "      register_renderer(events, OutputArea);\n",
       "    }\n",
       "  }\n",
       "\n",
       "  \n",
       "  if (typeof (root._bokeh_timeout) === \"undefined\" || force === true) {\n",
       "    root._bokeh_timeout = Date.now() + 5000;\n",
       "    root._bokeh_failed_load = false;\n",
       "  }\n",
       "\n",
       "  var NB_LOAD_WARNING = {'data': {'text/html':\n",
       "     \"<div style='background-color: #fdd'>\\n\"+\n",
       "     \"<p>\\n\"+\n",
       "     \"BokehJS does not appear to have successfully loaded. If loading BokehJS from CDN, this \\n\"+\n",
       "     \"may be due to a slow or bad network connection. Possible fixes:\\n\"+\n",
       "     \"</p>\\n\"+\n",
       "     \"<ul>\\n\"+\n",
       "     \"<li>re-rerun `output_notebook()` to attempt to load from CDN again, or</li>\\n\"+\n",
       "     \"<li>use INLINE resources instead, as so:</li>\\n\"+\n",
       "     \"</ul>\\n\"+\n",
       "     \"<code>\\n\"+\n",
       "     \"from bokeh.resources import INLINE\\n\"+\n",
       "     \"output_notebook(resources=INLINE)\\n\"+\n",
       "     \"</code>\\n\"+\n",
       "     \"</div>\"}};\n",
       "\n",
       "  function display_loaded() {\n",
       "    var el = document.getElementById(\"7590\");\n",
       "    if (el != null) {\n",
       "      el.textContent = \"BokehJS is loading...\";\n",
       "    }\n",
       "    if (root.Bokeh !== undefined) {\n",
       "      if (el != null) {\n",
       "        el.textContent = \"BokehJS \" + root.Bokeh.version + \" successfully loaded.\";\n",
       "      }\n",
       "    } else if (Date.now() < root._bokeh_timeout) {\n",
       "      setTimeout(display_loaded, 100)\n",
       "    }\n",
       "  }\n",
       "\n",
       "\n",
       "  function run_callbacks() {\n",
       "    try {\n",
       "      root._bokeh_onload_callbacks.forEach(function(callback) {\n",
       "        if (callback != null)\n",
       "          callback();\n",
       "      });\n",
       "    } finally {\n",
       "      delete root._bokeh_onload_callbacks\n",
       "    }\n",
       "    console.debug(\"Bokeh: all callbacks have finished\");\n",
       "  }\n",
       "\n",
       "  function load_libs(css_urls, js_urls, callback) {\n",
       "    if (css_urls == null) css_urls = [];\n",
       "    if (js_urls == null) js_urls = [];\n",
       "\n",
       "    root._bokeh_onload_callbacks.push(callback);\n",
       "    if (root._bokeh_is_loading > 0) {\n",
       "      console.debug(\"Bokeh: BokehJS is being loaded, scheduling callback at\", now());\n",
       "      return null;\n",
       "    }\n",
       "    if (js_urls == null || js_urls.length === 0) {\n",
       "      run_callbacks();\n",
       "      return null;\n",
       "    }\n",
       "    console.debug(\"Bokeh: BokehJS not loaded, scheduling load and callback at\", now());\n",
       "    root._bokeh_is_loading = css_urls.length + js_urls.length;\n",
       "\n",
       "    function on_load() {\n",
       "      root._bokeh_is_loading--;\n",
       "      if (root._bokeh_is_loading === 0) {\n",
       "        console.debug(\"Bokeh: all BokehJS libraries/stylesheets loaded\");\n",
       "        run_callbacks()\n",
       "      }\n",
       "    }\n",
       "\n",
       "    function on_error() {\n",
       "      console.error(\"failed to load \" + url);\n",
       "    }\n",
       "\n",
       "    for (var i = 0; i < css_urls.length; i++) {\n",
       "      var url = css_urls[i];\n",
       "      const element = document.createElement(\"link\");\n",
       "      element.onload = on_load;\n",
       "      element.onerror = on_error;\n",
       "      element.rel = \"stylesheet\";\n",
       "      element.type = \"text/css\";\n",
       "      element.href = url;\n",
       "      console.debug(\"Bokeh: injecting link tag for BokehJS stylesheet: \", url);\n",
       "      document.body.appendChild(element);\n",
       "    }\n",
       "\n",
       "    for (var i = 0; i < js_urls.length; i++) {\n",
       "      var url = js_urls[i];\n",
       "      var element = document.createElement('script');\n",
       "      element.onload = on_load;\n",
       "      element.onerror = on_error;\n",
       "      element.async = false;\n",
       "      element.src = url;\n",
       "      console.debug(\"Bokeh: injecting script tag for BokehJS library: \", url);\n",
       "      document.head.appendChild(element);\n",
       "    }\n",
       "  };var element = document.getElementById(\"7590\");\n",
       "  if (element == null) {\n",
       "    console.error(\"Bokeh: ERROR: autoload.js configured with elementid '7590' but no matching script tag was found. \")\n",
       "    return false;\n",
       "  }\n",
       "\n",
       "  function inject_raw_css(css) {\n",
       "    const element = document.createElement(\"style\");\n",
       "    element.appendChild(document.createTextNode(css));\n",
       "    document.body.appendChild(element);\n",
       "  }\n",
       "\n",
       "  var js_urls = [\"https://cdn.pydata.org/bokeh/release/bokeh-1.2.0.min.js\", \"https://cdn.pydata.org/bokeh/release/bokeh-widgets-1.2.0.min.js\", \"https://cdn.pydata.org/bokeh/release/bokeh-tables-1.2.0.min.js\", \"https://cdn.pydata.org/bokeh/release/bokeh-gl-1.2.0.min.js\"];\n",
       "  var css_urls = [\"https://cdn.pydata.org/bokeh/release/bokeh-1.2.0.min.css\", \"https://cdn.pydata.org/bokeh/release/bokeh-widgets-1.2.0.min.css\", \"https://cdn.pydata.org/bokeh/release/bokeh-tables-1.2.0.min.css\"];\n",
       "\n",
       "  var inline_js = [\n",
       "    function(Bokeh) {\n",
       "      Bokeh.set_log_level(\"info\");\n",
       "    },\n",
       "    \n",
       "    function(Bokeh) {\n",
       "      \n",
       "    },\n",
       "    function(Bokeh) {} // ensure no trailing comma for IE\n",
       "  ];\n",
       "\n",
       "  function run_inline_js() {\n",
       "    \n",
       "    if ((root.Bokeh !== undefined) || (force === true)) {\n",
       "      for (var i = 0; i < inline_js.length; i++) {\n",
       "        inline_js[i].call(root, root.Bokeh);\n",
       "      }if (force === true) {\n",
       "        display_loaded();\n",
       "      }} else if (Date.now() < root._bokeh_timeout) {\n",
       "      setTimeout(run_inline_js, 100);\n",
       "    } else if (!root._bokeh_failed_load) {\n",
       "      console.log(\"Bokeh: BokehJS failed to load within specified timeout.\");\n",
       "      root._bokeh_failed_load = true;\n",
       "    } else if (force !== true) {\n",
       "      var cell = $(document.getElementById(\"7590\")).parents('.cell').data().cell;\n",
       "      cell.output_area.append_execute_result(NB_LOAD_WARNING)\n",
       "    }\n",
       "\n",
       "  }\n",
       "\n",
       "  if (root._bokeh_is_loading === 0) {\n",
       "    console.debug(\"Bokeh: BokehJS loaded, going straight to plotting\");\n",
       "    run_inline_js();\n",
       "  } else {\n",
       "    load_libs(css_urls, js_urls, function() {\n",
       "      console.debug(\"Bokeh: BokehJS plotting callback run at\", now());\n",
       "      run_inline_js();\n",
       "    });\n",
       "  }\n",
       "}(window));"
      ],
      "application/vnd.bokehjs_load.v0+json": "\n(function(root) {\n  function now() {\n    return new Date();\n  }\n\n  var force = true;\n\n  if (typeof root._bokeh_onload_callbacks === \"undefined\" || force === true) {\n    root._bokeh_onload_callbacks = [];\n    root._bokeh_is_loading = undefined;\n  }\n\n  \n\n  \n  if (typeof (root._bokeh_timeout) === \"undefined\" || force === true) {\n    root._bokeh_timeout = Date.now() + 5000;\n    root._bokeh_failed_load = false;\n  }\n\n  var NB_LOAD_WARNING = {'data': {'text/html':\n     \"<div style='background-color: #fdd'>\\n\"+\n     \"<p>\\n\"+\n     \"BokehJS does not appear to have successfully loaded. If loading BokehJS from CDN, this \\n\"+\n     \"may be due to a slow or bad network connection. Possible fixes:\\n\"+\n     \"</p>\\n\"+\n     \"<ul>\\n\"+\n     \"<li>re-rerun `output_notebook()` to attempt to load from CDN again, or</li>\\n\"+\n     \"<li>use INLINE resources instead, as so:</li>\\n\"+\n     \"</ul>\\n\"+\n     \"<code>\\n\"+\n     \"from bokeh.resources import INLINE\\n\"+\n     \"output_notebook(resources=INLINE)\\n\"+\n     \"</code>\\n\"+\n     \"</div>\"}};\n\n  function display_loaded() {\n    var el = document.getElementById(\"7590\");\n    if (el != null) {\n      el.textContent = \"BokehJS is loading...\";\n    }\n    if (root.Bokeh !== undefined) {\n      if (el != null) {\n        el.textContent = \"BokehJS \" + root.Bokeh.version + \" successfully loaded.\";\n      }\n    } else if (Date.now() < root._bokeh_timeout) {\n      setTimeout(display_loaded, 100)\n    }\n  }\n\n\n  function run_callbacks() {\n    try {\n      root._bokeh_onload_callbacks.forEach(function(callback) {\n        if (callback != null)\n          callback();\n      });\n    } finally {\n      delete root._bokeh_onload_callbacks\n    }\n    console.debug(\"Bokeh: all callbacks have finished\");\n  }\n\n  function load_libs(css_urls, js_urls, callback) {\n    if (css_urls == null) css_urls = [];\n    if (js_urls == null) js_urls = [];\n\n    root._bokeh_onload_callbacks.push(callback);\n    if (root._bokeh_is_loading > 0) {\n      console.debug(\"Bokeh: BokehJS is being loaded, scheduling callback at\", now());\n      return null;\n    }\n    if (js_urls == null || js_urls.length === 0) {\n      run_callbacks();\n      return null;\n    }\n    console.debug(\"Bokeh: BokehJS not loaded, scheduling load and callback at\", now());\n    root._bokeh_is_loading = css_urls.length + js_urls.length;\n\n    function on_load() {\n      root._bokeh_is_loading--;\n      if (root._bokeh_is_loading === 0) {\n        console.debug(\"Bokeh: all BokehJS libraries/stylesheets loaded\");\n        run_callbacks()\n      }\n    }\n\n    function on_error() {\n      console.error(\"failed to load \" + url);\n    }\n\n    for (var i = 0; i < css_urls.length; i++) {\n      var url = css_urls[i];\n      const element = document.createElement(\"link\");\n      element.onload = on_load;\n      element.onerror = on_error;\n      element.rel = \"stylesheet\";\n      element.type = \"text/css\";\n      element.href = url;\n      console.debug(\"Bokeh: injecting link tag for BokehJS stylesheet: \", url);\n      document.body.appendChild(element);\n    }\n\n    for (var i = 0; i < js_urls.length; i++) {\n      var url = js_urls[i];\n      var element = document.createElement('script');\n      element.onload = on_load;\n      element.onerror = on_error;\n      element.async = false;\n      element.src = url;\n      console.debug(\"Bokeh: injecting script tag for BokehJS library: \", url);\n      document.head.appendChild(element);\n    }\n  };var element = document.getElementById(\"7590\");\n  if (element == null) {\n    console.error(\"Bokeh: ERROR: autoload.js configured with elementid '7590' but no matching script tag was found. \")\n    return false;\n  }\n\n  function inject_raw_css(css) {\n    const element = document.createElement(\"style\");\n    element.appendChild(document.createTextNode(css));\n    document.body.appendChild(element);\n  }\n\n  var js_urls = [\"https://cdn.pydata.org/bokeh/release/bokeh-1.2.0.min.js\", \"https://cdn.pydata.org/bokeh/release/bokeh-widgets-1.2.0.min.js\", \"https://cdn.pydata.org/bokeh/release/bokeh-tables-1.2.0.min.js\", \"https://cdn.pydata.org/bokeh/release/bokeh-gl-1.2.0.min.js\"];\n  var css_urls = [\"https://cdn.pydata.org/bokeh/release/bokeh-1.2.0.min.css\", \"https://cdn.pydata.org/bokeh/release/bokeh-widgets-1.2.0.min.css\", \"https://cdn.pydata.org/bokeh/release/bokeh-tables-1.2.0.min.css\"];\n\n  var inline_js = [\n    function(Bokeh) {\n      Bokeh.set_log_level(\"info\");\n    },\n    \n    function(Bokeh) {\n      \n    },\n    function(Bokeh) {} // ensure no trailing comma for IE\n  ];\n\n  function run_inline_js() {\n    \n    if ((root.Bokeh !== undefined) || (force === true)) {\n      for (var i = 0; i < inline_js.length; i++) {\n        inline_js[i].call(root, root.Bokeh);\n      }if (force === true) {\n        display_loaded();\n      }} else if (Date.now() < root._bokeh_timeout) {\n      setTimeout(run_inline_js, 100);\n    } else if (!root._bokeh_failed_load) {\n      console.log(\"Bokeh: BokehJS failed to load within specified timeout.\");\n      root._bokeh_failed_load = true;\n    } else if (force !== true) {\n      var cell = $(document.getElementById(\"7590\")).parents('.cell').data().cell;\n      cell.output_area.append_execute_result(NB_LOAD_WARNING)\n    }\n\n  }\n\n  if (root._bokeh_is_loading === 0) {\n    console.debug(\"Bokeh: BokehJS loaded, going straight to plotting\");\n    run_inline_js();\n  } else {\n    load_libs(css_urls, js_urls, function() {\n      console.debug(\"Bokeh: BokehJS plotting callback run at\", now());\n      run_inline_js();\n    });\n  }\n}(window));"
     },
     "metadata": {},
     "output_type": "display_data"
    }
   ],
   "source": [
    "from bokeh.plotting import figure\n",
    "from bokeh.io import curdoc, show, output_notebook\n",
    "from bokeh.resources import CDN\n",
    "output_notebook(CDN)"
   ]
  },
  {
   "cell_type": "code",
   "execution_count": 23,
   "metadata": {},
   "outputs": [
    {
     "data": {
      "text/html": [
       "\n",
       "\n",
       "\n",
       "\n",
       "\n",
       "\n",
       "  <div class=\"bk-root\" id=\"42081036-a207-4bae-949e-84c9f96b14fb\" data-root-id=\"13382\"></div>\n"
      ]
     },
     "metadata": {},
     "output_type": "display_data"
    },
    {
     "data": {
      "application/javascript": [
       "(function(root) {\n",
       "  function embed_document(root) {\n",
       "    \n",
       "  var docs_json = {\"fcf5870d-29d7-464f-a905-3848cf09e251\":{\"roots\":{\"references\":[{\"attributes\":{\"below\":[{\"id\":\"13393\",\"type\":\"LinearAxis\"}],\"center\":[{\"id\":\"13397\",\"type\":\"Grid\"},{\"id\":\"13401\",\"type\":\"Grid\"}],\"left\":[{\"id\":\"13398\",\"type\":\"CategoricalAxis\"}],\"plot_height\":250,\"renderers\":[{\"id\":\"13418\",\"type\":\"GlyphRenderer\"}],\"title\":{\"id\":\"13383\",\"type\":\"Title\"},\"toolbar\":{\"id\":\"13408\",\"type\":\"Toolbar\"},\"x_range\":{\"id\":\"13385\",\"type\":\"DataRange1d\"},\"x_scale\":{\"id\":\"13389\",\"type\":\"LinearScale\"},\"y_range\":{\"id\":\"13387\",\"type\":\"FactorRange\"},\"y_scale\":{\"id\":\"13391\",\"type\":\"CategoricalScale\"}},\"id\":\"13382\",\"subtype\":\"Figure\",\"type\":\"Plot\"},{\"attributes\":{},\"id\":\"13785\",\"type\":\"UnionRenderers\"},{\"attributes\":{\"dimension\":1,\"ticker\":{\"id\":\"13399\",\"type\":\"CategoricalTicker\"}},\"id\":\"13401\",\"type\":\"Grid\"},{\"attributes\":{},\"id\":\"13786\",\"type\":\"Selection\"},{\"attributes\":{},\"id\":\"13407\",\"type\":\"HelpTool\"},{\"attributes\":{},\"id\":\"13782\",\"type\":\"BasicTickFormatter\"},{\"attributes\":{},\"id\":\"13389\",\"type\":\"LinearScale\"},{\"attributes\":{\"text\":\"firstfourth_lab Categorical Importance Run: 1\"},\"id\":\"13383\",\"type\":\"Title\"},{\"attributes\":{\"fill_color\":{\"value\":\"#1f77b4\"},\"height\":{\"value\":0.2},\"line_color\":{\"value\":\"#1f77b4\"},\"right\":{\"field\":\"right\"},\"y\":{\"field\":\"y\"}},\"id\":\"13416\",\"type\":\"HBar\"},{\"attributes\":{},\"id\":\"13405\",\"type\":\"SaveTool\"},{\"attributes\":{},\"id\":\"13406\",\"type\":\"ResetTool\"},{\"attributes\":{\"bottom_units\":\"screen\",\"fill_alpha\":{\"value\":0.5},\"fill_color\":{\"value\":\"lightgrey\"},\"left_units\":\"screen\",\"level\":\"overlay\",\"line_alpha\":{\"value\":1.0},\"line_color\":{\"value\":\"black\"},\"line_dash\":[4,4],\"line_width\":{\"value\":2},\"render_mode\":\"css\",\"right_units\":\"screen\",\"top_units\":\"screen\"},\"id\":\"13787\",\"type\":\"BoxAnnotation\"},{\"attributes\":{\"callback\":null,\"data\":{\"right\":{\"__ndarray__\":\"AAAAAAAAAAAAAAAAAAAAAAAAAAAAAAAAAAAAAAAAAAAAAAAAAAAAAAAAAAAAAAAAtRm0HueJyT/tWFmGX/XJP57hjZhQ/9A/nEl2A2xB1T8=\",\"dtype\":\"float64\",\"shape\":[10]},\"y\":[\"lab:cpk\",\"lab:ggt\",\"lab:ast\",\"lab:high\",\"lab:uricemia\",\"lab:hematocrit\",\"lab:apoa1\",\"lab:apob\",\"lab:hdl\",\"lab:tg\"]},\"selected\":{\"id\":\"13786\",\"type\":\"Selection\"},\"selection_policy\":{\"id\":\"13785\",\"type\":\"UnionRenderers\"}},\"id\":\"13415\",\"type\":\"ColumnDataSource\"},{\"attributes\":{},\"id\":\"13402\",\"type\":\"PanTool\"},{\"attributes\":{},\"id\":\"13391\",\"type\":\"CategoricalScale\"},{\"attributes\":{},\"id\":\"13394\",\"type\":\"BasicTicker\"},{\"attributes\":{},\"id\":\"13403\",\"type\":\"WheelZoomTool\"},{\"attributes\":{},\"id\":\"13784\",\"type\":\"CategoricalTickFormatter\"},{\"attributes\":{},\"id\":\"13399\",\"type\":\"CategoricalTicker\"},{\"attributes\":{\"formatter\":{\"id\":\"13782\",\"type\":\"BasicTickFormatter\"},\"ticker\":{\"id\":\"13394\",\"type\":\"BasicTicker\"}},\"id\":\"13393\",\"type\":\"LinearAxis\"},{\"attributes\":{\"callback\":null},\"id\":\"13385\",\"type\":\"DataRange1d\"},{\"attributes\":{\"callback\":null,\"factors\":[\"lab:cpk\",\"lab:ggt\",\"lab:ast\",\"lab:high\",\"lab:uricemia\",\"lab:hematocrit\",\"lab:apoa1\",\"lab:apob\",\"lab:hdl\",\"lab:tg\"]},\"id\":\"13387\",\"type\":\"FactorRange\"},{\"attributes\":{\"fill_alpha\":{\"value\":0.1},\"fill_color\":{\"value\":\"#1f77b4\"},\"height\":{\"value\":0.2},\"line_alpha\":{\"value\":0.1},\"line_color\":{\"value\":\"#1f77b4\"},\"right\":{\"field\":\"right\"},\"y\":{\"field\":\"y\"}},\"id\":\"13417\",\"type\":\"HBar\"},{\"attributes\":{\"active_drag\":\"auto\",\"active_inspect\":\"auto\",\"active_multi\":null,\"active_scroll\":\"auto\",\"active_tap\":\"auto\",\"tools\":[{\"id\":\"13402\",\"type\":\"PanTool\"},{\"id\":\"13403\",\"type\":\"WheelZoomTool\"},{\"id\":\"13404\",\"type\":\"BoxZoomTool\"},{\"id\":\"13405\",\"type\":\"SaveTool\"},{\"id\":\"13406\",\"type\":\"ResetTool\"},{\"id\":\"13407\",\"type\":\"HelpTool\"}]},\"id\":\"13408\",\"type\":\"Toolbar\"},{\"attributes\":{\"overlay\":{\"id\":\"13787\",\"type\":\"BoxAnnotation\"}},\"id\":\"13404\",\"type\":\"BoxZoomTool\"},{\"attributes\":{\"data_source\":{\"id\":\"13415\",\"type\":\"ColumnDataSource\"},\"glyph\":{\"id\":\"13416\",\"type\":\"HBar\"},\"hover_glyph\":null,\"muted_glyph\":null,\"nonselection_glyph\":{\"id\":\"13417\",\"type\":\"HBar\"},\"selection_glyph\":null,\"view\":{\"id\":\"13419\",\"type\":\"CDSView\"}},\"id\":\"13418\",\"type\":\"GlyphRenderer\"},{\"attributes\":{\"source\":{\"id\":\"13415\",\"type\":\"ColumnDataSource\"}},\"id\":\"13419\",\"type\":\"CDSView\"},{\"attributes\":{\"ticker\":{\"id\":\"13394\",\"type\":\"BasicTicker\"}},\"id\":\"13397\",\"type\":\"Grid\"},{\"attributes\":{\"formatter\":{\"id\":\"13784\",\"type\":\"CategoricalTickFormatter\"},\"ticker\":{\"id\":\"13399\",\"type\":\"CategoricalTicker\"}},\"id\":\"13398\",\"type\":\"CategoricalAxis\"}],\"root_ids\":[\"13382\"]},\"title\":\"Bokeh Application\",\"version\":\"1.2.0\"}};\n",
       "  var render_items = [{\"docid\":\"fcf5870d-29d7-464f-a905-3848cf09e251\",\"roots\":{\"13382\":\"42081036-a207-4bae-949e-84c9f96b14fb\"}}];\n",
       "  root.Bokeh.embed.embed_items_notebook(docs_json, render_items);\n",
       "\n",
       "  }\n",
       "  if (root.Bokeh !== undefined) {\n",
       "    embed_document(root);\n",
       "  } else {\n",
       "    var attempts = 0;\n",
       "    var timer = setInterval(function(root) {\n",
       "      if (root.Bokeh !== undefined) {\n",
       "        embed_document(root);\n",
       "        clearInterval(timer);\n",
       "      }\n",
       "      attempts++;\n",
       "      if (attempts > 100) {\n",
       "        console.log(\"Bokeh: ERROR: Unable to run BokehJS code because BokehJS library is missing\");\n",
       "        clearInterval(timer);\n",
       "      }\n",
       "    }, 10, root)\n",
       "  }\n",
       "})(window);"
      ],
      "application/vnd.bokehjs_exec.v0+json": ""
     },
     "metadata": {
      "application/vnd.bokehjs_exec.v0+json": {
       "id": "13382"
      }
     },
     "output_type": "display_data"
    },
    {
     "data": {
      "text/html": [
       "\n",
       "\n",
       "\n",
       "\n",
       "\n",
       "\n",
       "  <div class=\"bk-root\" id=\"bb1ee9dd-78ed-4515-a28d-f764ba59988f\" data-root-id=\"13836\"></div>\n"
      ]
     },
     "metadata": {},
     "output_type": "display_data"
    },
    {
     "data": {
      "application/javascript": [
       "(function(root) {\n",
       "  function embed_document(root) {\n",
       "    \n",
       "  var docs_json = {\"d338af5a-cc08-42b4-a3be-b75606a5eef3\":{\"roots\":{\"references\":[{\"attributes\":{\"below\":[{\"id\":\"13847\",\"type\":\"LinearAxis\"}],\"center\":[{\"id\":\"13851\",\"type\":\"Grid\"},{\"id\":\"13855\",\"type\":\"Grid\"}],\"left\":[{\"id\":\"13852\",\"type\":\"CategoricalAxis\"}],\"plot_height\":250,\"renderers\":[{\"id\":\"13872\",\"type\":\"GlyphRenderer\"}],\"title\":{\"id\":\"13837\",\"type\":\"Title\"},\"toolbar\":{\"id\":\"13862\",\"type\":\"Toolbar\"},\"x_range\":{\"id\":\"13839\",\"type\":\"DataRange1d\"},\"x_scale\":{\"id\":\"13843\",\"type\":\"LinearScale\"},\"y_range\":{\"id\":\"13841\",\"type\":\"FactorRange\"},\"y_scale\":{\"id\":\"13845\",\"type\":\"CategoricalScale\"}},\"id\":\"13836\",\"subtype\":\"Figure\",\"type\":\"Plot\"},{\"attributes\":{},\"id\":\"13861\",\"type\":\"HelpTool\"},{\"attributes\":{\"text\":\"firstfourth_lab Categorical Importance Run: 2\"},\"id\":\"13837\",\"type\":\"Title\"},{\"attributes\":{\"formatter\":{\"id\":\"14246\",\"type\":\"CategoricalTickFormatter\"},\"ticker\":{\"id\":\"13853\",\"type\":\"CategoricalTicker\"}},\"id\":\"13852\",\"type\":\"CategoricalAxis\"},{\"attributes\":{},\"id\":\"13843\",\"type\":\"LinearScale\"},{\"attributes\":{\"source\":{\"id\":\"13869\",\"type\":\"ColumnDataSource\"}},\"id\":\"13873\",\"type\":\"CDSView\"},{\"attributes\":{\"overlay\":{\"id\":\"14249\",\"type\":\"BoxAnnotation\"}},\"id\":\"13858\",\"type\":\"BoxZoomTool\"},{\"attributes\":{\"dimension\":1,\"ticker\":{\"id\":\"13853\",\"type\":\"CategoricalTicker\"}},\"id\":\"13855\",\"type\":\"Grid\"},{\"attributes\":{\"fill_color\":{\"value\":\"#1f77b4\"},\"height\":{\"value\":0.2},\"line_color\":{\"value\":\"#1f77b4\"},\"right\":{\"field\":\"right\"},\"y\":{\"field\":\"y\"}},\"id\":\"13870\",\"type\":\"HBar\"},{\"attributes\":{},\"id\":\"14244\",\"type\":\"BasicTickFormatter\"},{\"attributes\":{\"formatter\":{\"id\":\"14244\",\"type\":\"BasicTickFormatter\"},\"ticker\":{\"id\":\"13848\",\"type\":\"BasicTicker\"}},\"id\":\"13847\",\"type\":\"LinearAxis\"},{\"attributes\":{},\"id\":\"13845\",\"type\":\"CategoricalScale\"},{\"attributes\":{\"ticker\":{\"id\":\"13848\",\"type\":\"BasicTicker\"}},\"id\":\"13851\",\"type\":\"Grid\"},{\"attributes\":{\"callback\":null},\"id\":\"13839\",\"type\":\"DataRange1d\"},{\"attributes\":{},\"id\":\"13856\",\"type\":\"PanTool\"},{\"attributes\":{},\"id\":\"14246\",\"type\":\"CategoricalTickFormatter\"},{\"attributes\":{},\"id\":\"13860\",\"type\":\"ResetTool\"},{\"attributes\":{\"callback\":null,\"factors\":[\"lab:cpk\",\"lab:ggt\",\"lab:ast\",\"lab:high\",\"lab:uricemia\",\"lab:hematocrit\",\"lab:apoa1\",\"lab:apob\",\"lab:hdl\",\"lab:tg\"]},\"id\":\"13841\",\"type\":\"FactorRange\"},{\"attributes\":{\"fill_alpha\":{\"value\":0.1},\"fill_color\":{\"value\":\"#1f77b4\"},\"height\":{\"value\":0.2},\"line_alpha\":{\"value\":0.1},\"line_color\":{\"value\":\"#1f77b4\"},\"right\":{\"field\":\"right\"},\"y\":{\"field\":\"y\"}},\"id\":\"13871\",\"type\":\"HBar\"},{\"attributes\":{},\"id\":\"13859\",\"type\":\"SaveTool\"},{\"attributes\":{},\"id\":\"13857\",\"type\":\"WheelZoomTool\"},{\"attributes\":{\"data_source\":{\"id\":\"13869\",\"type\":\"ColumnDataSource\"},\"glyph\":{\"id\":\"13870\",\"type\":\"HBar\"},\"hover_glyph\":null,\"muted_glyph\":null,\"nonselection_glyph\":{\"id\":\"13871\",\"type\":\"HBar\"},\"selection_glyph\":null,\"view\":{\"id\":\"13873\",\"type\":\"CDSView\"}},\"id\":\"13872\",\"type\":\"GlyphRenderer\"},{\"attributes\":{},\"id\":\"13848\",\"type\":\"BasicTicker\"},{\"attributes\":{\"callback\":null,\"data\":{\"right\":{\"__ndarray__\":\"AAAAAAAAAAAAAAAAAAAAAAAAAAAAAAAAAAAAAAAAAAAAAAAAAAAAAAAAAAAAAAAAuPDQkt5YyT/g9IMzaXLJP1Zqj5GIG9E/QFlOutx+1T8=\",\"dtype\":\"float64\",\"shape\":[10]},\"y\":[\"lab:cpk\",\"lab:ggt\",\"lab:ast\",\"lab:high\",\"lab:uricemia\",\"lab:hematocrit\",\"lab:apoa1\",\"lab:apob\",\"lab:hdl\",\"lab:tg\"]},\"selected\":{\"id\":\"14248\",\"type\":\"Selection\"},\"selection_policy\":{\"id\":\"14247\",\"type\":\"UnionRenderers\"}},\"id\":\"13869\",\"type\":\"ColumnDataSource\"},{\"attributes\":{\"active_drag\":\"auto\",\"active_inspect\":\"auto\",\"active_multi\":null,\"active_scroll\":\"auto\",\"active_tap\":\"auto\",\"tools\":[{\"id\":\"13856\",\"type\":\"PanTool\"},{\"id\":\"13857\",\"type\":\"WheelZoomTool\"},{\"id\":\"13858\",\"type\":\"BoxZoomTool\"},{\"id\":\"13859\",\"type\":\"SaveTool\"},{\"id\":\"13860\",\"type\":\"ResetTool\"},{\"id\":\"13861\",\"type\":\"HelpTool\"}]},\"id\":\"13862\",\"type\":\"Toolbar\"},{\"attributes\":{},\"id\":\"14247\",\"type\":\"UnionRenderers\"},{\"attributes\":{},\"id\":\"13853\",\"type\":\"CategoricalTicker\"},{\"attributes\":{\"bottom_units\":\"screen\",\"fill_alpha\":{\"value\":0.5},\"fill_color\":{\"value\":\"lightgrey\"},\"left_units\":\"screen\",\"level\":\"overlay\",\"line_alpha\":{\"value\":1.0},\"line_color\":{\"value\":\"black\"},\"line_dash\":[4,4],\"line_width\":{\"value\":2},\"render_mode\":\"css\",\"right_units\":\"screen\",\"top_units\":\"screen\"},\"id\":\"14249\",\"type\":\"BoxAnnotation\"},{\"attributes\":{},\"id\":\"14248\",\"type\":\"Selection\"}],\"root_ids\":[\"13836\"]},\"title\":\"Bokeh Application\",\"version\":\"1.2.0\"}};\n",
       "  var render_items = [{\"docid\":\"d338af5a-cc08-42b4-a3be-b75606a5eef3\",\"roots\":{\"13836\":\"bb1ee9dd-78ed-4515-a28d-f764ba59988f\"}}];\n",
       "  root.Bokeh.embed.embed_items_notebook(docs_json, render_items);\n",
       "\n",
       "  }\n",
       "  if (root.Bokeh !== undefined) {\n",
       "    embed_document(root);\n",
       "  } else {\n",
       "    var attempts = 0;\n",
       "    var timer = setInterval(function(root) {\n",
       "      if (root.Bokeh !== undefined) {\n",
       "        embed_document(root);\n",
       "        clearInterval(timer);\n",
       "      }\n",
       "      attempts++;\n",
       "      if (attempts > 100) {\n",
       "        console.log(\"Bokeh: ERROR: Unable to run BokehJS code because BokehJS library is missing\");\n",
       "        clearInterval(timer);\n",
       "      }\n",
       "    }, 10, root)\n",
       "  }\n",
       "})(window);"
      ],
      "application/vnd.bokehjs_exec.v0+json": ""
     },
     "metadata": {
      "application/vnd.bokehjs_exec.v0+json": {
       "id": "13836"
      }
     },
     "output_type": "display_data"
    },
    {
     "data": {
      "text/html": [
       "\n",
       "\n",
       "\n",
       "\n",
       "\n",
       "\n",
       "  <div class=\"bk-root\" id=\"0b377180-4c20-418d-8d7f-5fa96fe9c737\" data-root-id=\"14298\"></div>\n"
      ]
     },
     "metadata": {},
     "output_type": "display_data"
    },
    {
     "data": {
      "application/javascript": [
       "(function(root) {\n",
       "  function embed_document(root) {\n",
       "    \n",
       "  var docs_json = {\"f01b25d5-ad32-4304-af22-19e05e74f752\":{\"roots\":{\"references\":[{\"attributes\":{\"below\":[{\"id\":\"14309\",\"type\":\"LinearAxis\"}],\"center\":[{\"id\":\"14313\",\"type\":\"Grid\"},{\"id\":\"14317\",\"type\":\"Grid\"}],\"left\":[{\"id\":\"14314\",\"type\":\"CategoricalAxis\"}],\"plot_height\":250,\"renderers\":[{\"id\":\"14334\",\"type\":\"GlyphRenderer\"}],\"title\":{\"id\":\"14299\",\"type\":\"Title\"},\"toolbar\":{\"id\":\"14324\",\"type\":\"Toolbar\"},\"x_range\":{\"id\":\"14301\",\"type\":\"DataRange1d\"},\"x_scale\":{\"id\":\"14305\",\"type\":\"LinearScale\"},\"y_range\":{\"id\":\"14303\",\"type\":\"FactorRange\"},\"y_scale\":{\"id\":\"14307\",\"type\":\"CategoricalScale\"}},\"id\":\"14298\",\"subtype\":\"Figure\",\"type\":\"Plot\"},{\"attributes\":{\"callback\":null},\"id\":\"14301\",\"type\":\"DataRange1d\"},{\"attributes\":{},\"id\":\"14307\",\"type\":\"CategoricalScale\"},{\"attributes\":{\"data_source\":{\"id\":\"14331\",\"type\":\"ColumnDataSource\"},\"glyph\":{\"id\":\"14332\",\"type\":\"HBar\"},\"hover_glyph\":null,\"muted_glyph\":null,\"nonselection_glyph\":{\"id\":\"14333\",\"type\":\"HBar\"},\"selection_glyph\":null,\"view\":{\"id\":\"14335\",\"type\":\"CDSView\"}},\"id\":\"14334\",\"type\":\"GlyphRenderer\"},{\"attributes\":{},\"id\":\"14310\",\"type\":\"BasicTicker\"},{\"attributes\":{\"dimension\":1,\"ticker\":{\"id\":\"14315\",\"type\":\"CategoricalTicker\"}},\"id\":\"14317\",\"type\":\"Grid\"},{\"attributes\":{},\"id\":\"14322\",\"type\":\"ResetTool\"},{\"attributes\":{\"fill_color\":{\"value\":\"#1f77b4\"},\"height\":{\"value\":0.2},\"line_color\":{\"value\":\"#1f77b4\"},\"right\":{\"field\":\"right\"},\"y\":{\"field\":\"y\"}},\"id\":\"14332\",\"type\":\"HBar\"},{\"attributes\":{\"callback\":null,\"factors\":[\"lab:cpk\",\"lab:ggt\",\"lab:ast\",\"lab:high\",\"lab:uricemia\",\"lab:hematocrit\",\"lab:apoa1\",\"lab:apob\",\"lab:hdl\",\"lab:tg\"]},\"id\":\"14303\",\"type\":\"FactorRange\"},{\"attributes\":{},\"id\":\"14318\",\"type\":\"PanTool\"},{\"attributes\":{},\"id\":\"14321\",\"type\":\"SaveTool\"},{\"attributes\":{},\"id\":\"14718\",\"type\":\"Selection\"},{\"attributes\":{\"fill_alpha\":{\"value\":0.1},\"fill_color\":{\"value\":\"#1f77b4\"},\"height\":{\"value\":0.2},\"line_alpha\":{\"value\":0.1},\"line_color\":{\"value\":\"#1f77b4\"},\"right\":{\"field\":\"right\"},\"y\":{\"field\":\"y\"}},\"id\":\"14333\",\"type\":\"HBar\"},{\"attributes\":{},\"id\":\"14305\",\"type\":\"LinearScale\"},{\"attributes\":{\"active_drag\":\"auto\",\"active_inspect\":\"auto\",\"active_multi\":null,\"active_scroll\":\"auto\",\"active_tap\":\"auto\",\"tools\":[{\"id\":\"14318\",\"type\":\"PanTool\"},{\"id\":\"14319\",\"type\":\"WheelZoomTool\"},{\"id\":\"14320\",\"type\":\"BoxZoomTool\"},{\"id\":\"14321\",\"type\":\"SaveTool\"},{\"id\":\"14322\",\"type\":\"ResetTool\"},{\"id\":\"14323\",\"type\":\"HelpTool\"}]},\"id\":\"14324\",\"type\":\"Toolbar\"},{\"attributes\":{\"source\":{\"id\":\"14331\",\"type\":\"ColumnDataSource\"}},\"id\":\"14335\",\"type\":\"CDSView\"},{\"attributes\":{\"overlay\":{\"id\":\"14719\",\"type\":\"BoxAnnotation\"}},\"id\":\"14320\",\"type\":\"BoxZoomTool\"},{\"attributes\":{},\"id\":\"14716\",\"type\":\"CategoricalTickFormatter\"},{\"attributes\":{},\"id\":\"14323\",\"type\":\"HelpTool\"},{\"attributes\":{},\"id\":\"14714\",\"type\":\"BasicTickFormatter\"},{\"attributes\":{\"formatter\":{\"id\":\"14716\",\"type\":\"CategoricalTickFormatter\"},\"ticker\":{\"id\":\"14315\",\"type\":\"CategoricalTicker\"}},\"id\":\"14314\",\"type\":\"CategoricalAxis\"},{\"attributes\":{},\"id\":\"14717\",\"type\":\"UnionRenderers\"},{\"attributes\":{\"bottom_units\":\"screen\",\"fill_alpha\":{\"value\":0.5},\"fill_color\":{\"value\":\"lightgrey\"},\"left_units\":\"screen\",\"level\":\"overlay\",\"line_alpha\":{\"value\":1.0},\"line_color\":{\"value\":\"black\"},\"line_dash\":[4,4],\"line_width\":{\"value\":2},\"render_mode\":\"css\",\"right_units\":\"screen\",\"top_units\":\"screen\"},\"id\":\"14719\",\"type\":\"BoxAnnotation\"},{\"attributes\":{\"formatter\":{\"id\":\"14714\",\"type\":\"BasicTickFormatter\"},\"ticker\":{\"id\":\"14310\",\"type\":\"BasicTicker\"}},\"id\":\"14309\",\"type\":\"LinearAxis\"},{\"attributes\":{},\"id\":\"14319\",\"type\":\"WheelZoomTool\"},{\"attributes\":{\"callback\":null,\"data\":{\"right\":{\"__ndarray__\":\"AAAAAAAAAAAAAAAAAAAAAAAAAAAAAAAAAAAAAAAAAAAAAAAAAAAAAAAAAAAAAAAABupiwYdXyT9+bfyHAdrJP3WSUWVnHtE/NPZCqM1I1T8=\",\"dtype\":\"float64\",\"shape\":[10]},\"y\":[\"lab:cpk\",\"lab:ggt\",\"lab:ast\",\"lab:high\",\"lab:uricemia\",\"lab:hematocrit\",\"lab:apoa1\",\"lab:apob\",\"lab:hdl\",\"lab:tg\"]},\"selected\":{\"id\":\"14718\",\"type\":\"Selection\"},\"selection_policy\":{\"id\":\"14717\",\"type\":\"UnionRenderers\"}},\"id\":\"14331\",\"type\":\"ColumnDataSource\"},{\"attributes\":{\"text\":\"firstfourth_lab Categorical Importance Run: 3\"},\"id\":\"14299\",\"type\":\"Title\"},{\"attributes\":{},\"id\":\"14315\",\"type\":\"CategoricalTicker\"},{\"attributes\":{\"ticker\":{\"id\":\"14310\",\"type\":\"BasicTicker\"}},\"id\":\"14313\",\"type\":\"Grid\"}],\"root_ids\":[\"14298\"]},\"title\":\"Bokeh Application\",\"version\":\"1.2.0\"}};\n",
       "  var render_items = [{\"docid\":\"f01b25d5-ad32-4304-af22-19e05e74f752\",\"roots\":{\"14298\":\"0b377180-4c20-418d-8d7f-5fa96fe9c737\"}}];\n",
       "  root.Bokeh.embed.embed_items_notebook(docs_json, render_items);\n",
       "\n",
       "  }\n",
       "  if (root.Bokeh !== undefined) {\n",
       "    embed_document(root);\n",
       "  } else {\n",
       "    var attempts = 0;\n",
       "    var timer = setInterval(function(root) {\n",
       "      if (root.Bokeh !== undefined) {\n",
       "        embed_document(root);\n",
       "        clearInterval(timer);\n",
       "      }\n",
       "      attempts++;\n",
       "      if (attempts > 100) {\n",
       "        console.log(\"Bokeh: ERROR: Unable to run BokehJS code because BokehJS library is missing\");\n",
       "        clearInterval(timer);\n",
       "      }\n",
       "    }, 10, root)\n",
       "  }\n",
       "})(window);"
      ],
      "application/vnd.bokehjs_exec.v0+json": ""
     },
     "metadata": {
      "application/vnd.bokehjs_exec.v0+json": {
       "id": "14298"
      }
     },
     "output_type": "display_data"
    },
    {
     "data": {
      "text/html": [
       "\n",
       "\n",
       "\n",
       "\n",
       "\n",
       "\n",
       "  <div class=\"bk-root\" id=\"46969a7d-ced6-4aa4-80b6-ec6d4d318958\" data-root-id=\"14768\"></div>\n"
      ]
     },
     "metadata": {},
     "output_type": "display_data"
    },
    {
     "data": {
      "application/javascript": [
       "(function(root) {\n",
       "  function embed_document(root) {\n",
       "    \n",
       "  var docs_json = {\"450d9188-6e68-4dd6-a8d6-340b60402578\":{\"roots\":{\"references\":[{\"attributes\":{\"below\":[{\"id\":\"14779\",\"type\":\"LinearAxis\"}],\"center\":[{\"id\":\"14783\",\"type\":\"Grid\"},{\"id\":\"14787\",\"type\":\"Grid\"}],\"left\":[{\"id\":\"14784\",\"type\":\"CategoricalAxis\"}],\"plot_height\":250,\"renderers\":[{\"id\":\"14804\",\"type\":\"GlyphRenderer\"}],\"title\":{\"id\":\"14769\",\"type\":\"Title\"},\"toolbar\":{\"id\":\"14794\",\"type\":\"Toolbar\"},\"x_range\":{\"id\":\"14771\",\"type\":\"DataRange1d\"},\"x_scale\":{\"id\":\"14775\",\"type\":\"LinearScale\"},\"y_range\":{\"id\":\"14773\",\"type\":\"FactorRange\"},\"y_scale\":{\"id\":\"14777\",\"type\":\"CategoricalScale\"}},\"id\":\"14768\",\"subtype\":\"Figure\",\"type\":\"Plot\"},{\"attributes\":{\"fill_color\":{\"value\":\"#1f77b4\"},\"height\":{\"value\":0.2},\"line_color\":{\"value\":\"#1f77b4\"},\"right\":{\"field\":\"right\"},\"y\":{\"field\":\"y\"}},\"id\":\"14802\",\"type\":\"HBar\"},{\"attributes\":{\"bottom_units\":\"screen\",\"fill_alpha\":{\"value\":0.5},\"fill_color\":{\"value\":\"lightgrey\"},\"left_units\":\"screen\",\"level\":\"overlay\",\"line_alpha\":{\"value\":1.0},\"line_color\":{\"value\":\"black\"},\"line_dash\":[4,4],\"line_width\":{\"value\":2},\"render_mode\":\"css\",\"right_units\":\"screen\",\"top_units\":\"screen\"},\"id\":\"15197\",\"type\":\"BoxAnnotation\"},{\"attributes\":{\"active_drag\":\"auto\",\"active_inspect\":\"auto\",\"active_multi\":null,\"active_scroll\":\"auto\",\"active_tap\":\"auto\",\"tools\":[{\"id\":\"14788\",\"type\":\"PanTool\"},{\"id\":\"14789\",\"type\":\"WheelZoomTool\"},{\"id\":\"14790\",\"type\":\"BoxZoomTool\"},{\"id\":\"14791\",\"type\":\"SaveTool\"},{\"id\":\"14792\",\"type\":\"ResetTool\"},{\"id\":\"14793\",\"type\":\"HelpTool\"}]},\"id\":\"14794\",\"type\":\"Toolbar\"},{\"attributes\":{},\"id\":\"14775\",\"type\":\"LinearScale\"},{\"attributes\":{},\"id\":\"15196\",\"type\":\"Selection\"},{\"attributes\":{},\"id\":\"14785\",\"type\":\"CategoricalTicker\"},{\"attributes\":{},\"id\":\"14791\",\"type\":\"SaveTool\"},{\"attributes\":{},\"id\":\"14793\",\"type\":\"HelpTool\"},{\"attributes\":{},\"id\":\"15195\",\"type\":\"UnionRenderers\"},{\"attributes\":{},\"id\":\"14792\",\"type\":\"ResetTool\"},{\"attributes\":{},\"id\":\"14777\",\"type\":\"CategoricalScale\"},{\"attributes\":{\"formatter\":{\"id\":\"15192\",\"type\":\"BasicTickFormatter\"},\"ticker\":{\"id\":\"14780\",\"type\":\"BasicTicker\"}},\"id\":\"14779\",\"type\":\"LinearAxis\"},{\"attributes\":{\"fill_alpha\":{\"value\":0.1},\"fill_color\":{\"value\":\"#1f77b4\"},\"height\":{\"value\":0.2},\"line_alpha\":{\"value\":0.1},\"line_color\":{\"value\":\"#1f77b4\"},\"right\":{\"field\":\"right\"},\"y\":{\"field\":\"y\"}},\"id\":\"14803\",\"type\":\"HBar\"},{\"attributes\":{\"overlay\":{\"id\":\"15197\",\"type\":\"BoxAnnotation\"}},\"id\":\"14790\",\"type\":\"BoxZoomTool\"},{\"attributes\":{\"callback\":null},\"id\":\"14771\",\"type\":\"DataRange1d\"},{\"attributes\":{\"text\":\"firstfourth_lab Categorical Importance Run: 4\"},\"id\":\"14769\",\"type\":\"Title\"},{\"attributes\":{},\"id\":\"15194\",\"type\":\"CategoricalTickFormatter\"},{\"attributes\":{\"source\":{\"id\":\"14801\",\"type\":\"ColumnDataSource\"}},\"id\":\"14805\",\"type\":\"CDSView\"},{\"attributes\":{\"formatter\":{\"id\":\"15194\",\"type\":\"CategoricalTickFormatter\"},\"ticker\":{\"id\":\"14785\",\"type\":\"CategoricalTicker\"}},\"id\":\"14784\",\"type\":\"CategoricalAxis\"},{\"attributes\":{\"callback\":null,\"data\":{\"right\":{\"__ndarray__\":\"AAAAAAAAAAAAAAAAAAAAAAAAAAAAAAAAAAAAAAAAAAAAAAAAAAAAAAAAAAAAAAAAy5BuR3xByT9O2c8Yt6vJP1Qlnq4FPtE/whs0xeFK1T8=\",\"dtype\":\"float64\",\"shape\":[10]},\"y\":[\"lab:cpk\",\"lab:ggt\",\"lab:ast\",\"lab:high\",\"lab:uricemia\",\"lab:hematocrit\",\"lab:apoa1\",\"lab:apob\",\"lab:hdl\",\"lab:tg\"]},\"selected\":{\"id\":\"15196\",\"type\":\"Selection\"},\"selection_policy\":{\"id\":\"15195\",\"type\":\"UnionRenderers\"}},\"id\":\"14801\",\"type\":\"ColumnDataSource\"},{\"attributes\":{\"ticker\":{\"id\":\"14780\",\"type\":\"BasicTicker\"}},\"id\":\"14783\",\"type\":\"Grid\"},{\"attributes\":{\"callback\":null,\"factors\":[\"lab:cpk\",\"lab:ggt\",\"lab:ast\",\"lab:high\",\"lab:uricemia\",\"lab:hematocrit\",\"lab:apoa1\",\"lab:apob\",\"lab:hdl\",\"lab:tg\"]},\"id\":\"14773\",\"type\":\"FactorRange\"},{\"attributes\":{},\"id\":\"15192\",\"type\":\"BasicTickFormatter\"},{\"attributes\":{},\"id\":\"14780\",\"type\":\"BasicTicker\"},{\"attributes\":{},\"id\":\"14789\",\"type\":\"WheelZoomTool\"},{\"attributes\":{\"data_source\":{\"id\":\"14801\",\"type\":\"ColumnDataSource\"},\"glyph\":{\"id\":\"14802\",\"type\":\"HBar\"},\"hover_glyph\":null,\"muted_glyph\":null,\"nonselection_glyph\":{\"id\":\"14803\",\"type\":\"HBar\"},\"selection_glyph\":null,\"view\":{\"id\":\"14805\",\"type\":\"CDSView\"}},\"id\":\"14804\",\"type\":\"GlyphRenderer\"},{\"attributes\":{\"dimension\":1,\"ticker\":{\"id\":\"14785\",\"type\":\"CategoricalTicker\"}},\"id\":\"14787\",\"type\":\"Grid\"},{\"attributes\":{},\"id\":\"14788\",\"type\":\"PanTool\"}],\"root_ids\":[\"14768\"]},\"title\":\"Bokeh Application\",\"version\":\"1.2.0\"}};\n",
       "  var render_items = [{\"docid\":\"450d9188-6e68-4dd6-a8d6-340b60402578\",\"roots\":{\"14768\":\"46969a7d-ced6-4aa4-80b6-ec6d4d318958\"}}];\n",
       "  root.Bokeh.embed.embed_items_notebook(docs_json, render_items);\n",
       "\n",
       "  }\n",
       "  if (root.Bokeh !== undefined) {\n",
       "    embed_document(root);\n",
       "  } else {\n",
       "    var attempts = 0;\n",
       "    var timer = setInterval(function(root) {\n",
       "      if (root.Bokeh !== undefined) {\n",
       "        embed_document(root);\n",
       "        clearInterval(timer);\n",
       "      }\n",
       "      attempts++;\n",
       "      if (attempts > 100) {\n",
       "        console.log(\"Bokeh: ERROR: Unable to run BokehJS code because BokehJS library is missing\");\n",
       "        clearInterval(timer);\n",
       "      }\n",
       "    }, 10, root)\n",
       "  }\n",
       "})(window);"
      ],
      "application/vnd.bokehjs_exec.v0+json": ""
     },
     "metadata": {
      "application/vnd.bokehjs_exec.v0+json": {
       "id": "14768"
      }
     },
     "output_type": "display_data"
    },
    {
     "data": {
      "text/html": [
       "\n",
       "\n",
       "\n",
       "\n",
       "\n",
       "\n",
       "  <div class=\"bk-root\" id=\"aab2a75a-085b-48d5-aef5-d098620f2ee6\" data-root-id=\"15246\"></div>\n"
      ]
     },
     "metadata": {},
     "output_type": "display_data"
    },
    {
     "data": {
      "application/javascript": [
       "(function(root) {\n",
       "  function embed_document(root) {\n",
       "    \n",
       "  var docs_json = {\"f7a1ea57-adc3-41c8-b38b-d9a94d1c7988\":{\"roots\":{\"references\":[{\"attributes\":{\"below\":[{\"id\":\"15257\",\"type\":\"LinearAxis\"}],\"center\":[{\"id\":\"15261\",\"type\":\"Grid\"},{\"id\":\"15265\",\"type\":\"Grid\"}],\"left\":[{\"id\":\"15262\",\"type\":\"CategoricalAxis\"}],\"plot_height\":250,\"renderers\":[{\"id\":\"15282\",\"type\":\"GlyphRenderer\"}],\"title\":{\"id\":\"15247\",\"type\":\"Title\"},\"toolbar\":{\"id\":\"15272\",\"type\":\"Toolbar\"},\"x_range\":{\"id\":\"15249\",\"type\":\"DataRange1d\"},\"x_scale\":{\"id\":\"15253\",\"type\":\"LinearScale\"},\"y_range\":{\"id\":\"15251\",\"type\":\"FactorRange\"},\"y_scale\":{\"id\":\"15255\",\"type\":\"CategoricalScale\"}},\"id\":\"15246\",\"subtype\":\"Figure\",\"type\":\"Plot\"},{\"attributes\":{\"formatter\":{\"id\":\"15680\",\"type\":\"CategoricalTickFormatter\"},\"ticker\":{\"id\":\"15263\",\"type\":\"CategoricalTicker\"}},\"id\":\"15262\",\"type\":\"CategoricalAxis\"},{\"attributes\":{},\"id\":\"15266\",\"type\":\"PanTool\"},{\"attributes\":{},\"id\":\"15255\",\"type\":\"CategoricalScale\"},{\"attributes\":{\"callback\":null,\"factors\":[\"lab:cpk\",\"lab:ggt\",\"lab:ast\",\"lab:high\",\"lab:uricemia\",\"lab:hematocrit\",\"lab:apoa1\",\"lab:apob\",\"lab:hdl\",\"lab:tg\"]},\"id\":\"15251\",\"type\":\"FactorRange\"},{\"attributes\":{\"bottom_units\":\"screen\",\"fill_alpha\":{\"value\":0.5},\"fill_color\":{\"value\":\"lightgrey\"},\"left_units\":\"screen\",\"level\":\"overlay\",\"line_alpha\":{\"value\":1.0},\"line_color\":{\"value\":\"black\"},\"line_dash\":[4,4],\"line_width\":{\"value\":2},\"render_mode\":\"css\",\"right_units\":\"screen\",\"top_units\":\"screen\"},\"id\":\"15683\",\"type\":\"BoxAnnotation\"},{\"attributes\":{},\"id\":\"15269\",\"type\":\"SaveTool\"},{\"attributes\":{},\"id\":\"15680\",\"type\":\"CategoricalTickFormatter\"},{\"attributes\":{\"ticker\":{\"id\":\"15258\",\"type\":\"BasicTicker\"}},\"id\":\"15261\",\"type\":\"Grid\"},{\"attributes\":{},\"id\":\"15678\",\"type\":\"BasicTickFormatter\"},{\"attributes\":{\"callback\":null,\"data\":{\"right\":{\"__ndarray__\":\"AAAAAAAAAAAAAAAAAAAAAAAAAAAAAAAAAAAAAAAAAAAAAAAAAAAAAAAAAAAAAAAAwqXFoNpYyT9vPliBuefJP/XCBYXIONE/jmHr9pon1T8=\",\"dtype\":\"float64\",\"shape\":[10]},\"y\":[\"lab:cpk\",\"lab:ggt\",\"lab:ast\",\"lab:high\",\"lab:uricemia\",\"lab:hematocrit\",\"lab:apoa1\",\"lab:apob\",\"lab:hdl\",\"lab:tg\"]},\"selected\":{\"id\":\"15682\",\"type\":\"Selection\"},\"selection_policy\":{\"id\":\"15681\",\"type\":\"UnionRenderers\"}},\"id\":\"15279\",\"type\":\"ColumnDataSource\"},{\"attributes\":{\"data_source\":{\"id\":\"15279\",\"type\":\"ColumnDataSource\"},\"glyph\":{\"id\":\"15280\",\"type\":\"HBar\"},\"hover_glyph\":null,\"muted_glyph\":null,\"nonselection_glyph\":{\"id\":\"15281\",\"type\":\"HBar\"},\"selection_glyph\":null,\"view\":{\"id\":\"15283\",\"type\":\"CDSView\"}},\"id\":\"15282\",\"type\":\"GlyphRenderer\"},{\"attributes\":{},\"id\":\"15263\",\"type\":\"CategoricalTicker\"},{\"attributes\":{\"text\":\"firstfourth_lab Categorical Importance Run: 5\"},\"id\":\"15247\",\"type\":\"Title\"},{\"attributes\":{\"overlay\":{\"id\":\"15683\",\"type\":\"BoxAnnotation\"}},\"id\":\"15268\",\"type\":\"BoxZoomTool\"},{\"attributes\":{\"dimension\":1,\"ticker\":{\"id\":\"15263\",\"type\":\"CategoricalTicker\"}},\"id\":\"15265\",\"type\":\"Grid\"},{\"attributes\":{},\"id\":\"15271\",\"type\":\"HelpTool\"},{\"attributes\":{},\"id\":\"15681\",\"type\":\"UnionRenderers\"},{\"attributes\":{\"formatter\":{\"id\":\"15678\",\"type\":\"BasicTickFormatter\"},\"ticker\":{\"id\":\"15258\",\"type\":\"BasicTicker\"}},\"id\":\"15257\",\"type\":\"LinearAxis\"},{\"attributes\":{\"active_drag\":\"auto\",\"active_inspect\":\"auto\",\"active_multi\":null,\"active_scroll\":\"auto\",\"active_tap\":\"auto\",\"tools\":[{\"id\":\"15266\",\"type\":\"PanTool\"},{\"id\":\"15267\",\"type\":\"WheelZoomTool\"},{\"id\":\"15268\",\"type\":\"BoxZoomTool\"},{\"id\":\"15269\",\"type\":\"SaveTool\"},{\"id\":\"15270\",\"type\":\"ResetTool\"},{\"id\":\"15271\",\"type\":\"HelpTool\"}]},\"id\":\"15272\",\"type\":\"Toolbar\"},{\"attributes\":{},\"id\":\"15682\",\"type\":\"Selection\"},{\"attributes\":{\"callback\":null},\"id\":\"15249\",\"type\":\"DataRange1d\"},{\"attributes\":{},\"id\":\"15267\",\"type\":\"WheelZoomTool\"},{\"attributes\":{\"fill_color\":{\"value\":\"#1f77b4\"},\"height\":{\"value\":0.2},\"line_color\":{\"value\":\"#1f77b4\"},\"right\":{\"field\":\"right\"},\"y\":{\"field\":\"y\"}},\"id\":\"15280\",\"type\":\"HBar\"},{\"attributes\":{\"source\":{\"id\":\"15279\",\"type\":\"ColumnDataSource\"}},\"id\":\"15283\",\"type\":\"CDSView\"},{\"attributes\":{},\"id\":\"15253\",\"type\":\"LinearScale\"},{\"attributes\":{},\"id\":\"15270\",\"type\":\"ResetTool\"},{\"attributes\":{},\"id\":\"15258\",\"type\":\"BasicTicker\"},{\"attributes\":{\"fill_alpha\":{\"value\":0.1},\"fill_color\":{\"value\":\"#1f77b4\"},\"height\":{\"value\":0.2},\"line_alpha\":{\"value\":0.1},\"line_color\":{\"value\":\"#1f77b4\"},\"right\":{\"field\":\"right\"},\"y\":{\"field\":\"y\"}},\"id\":\"15281\",\"type\":\"HBar\"}],\"root_ids\":[\"15246\"]},\"title\":\"Bokeh Application\",\"version\":\"1.2.0\"}};\n",
       "  var render_items = [{\"docid\":\"f7a1ea57-adc3-41c8-b38b-d9a94d1c7988\",\"roots\":{\"15246\":\"aab2a75a-085b-48d5-aef5-d098620f2ee6\"}}];\n",
       "  root.Bokeh.embed.embed_items_notebook(docs_json, render_items);\n",
       "\n",
       "  }\n",
       "  if (root.Bokeh !== undefined) {\n",
       "    embed_document(root);\n",
       "  } else {\n",
       "    var attempts = 0;\n",
       "    var timer = setInterval(function(root) {\n",
       "      if (root.Bokeh !== undefined) {\n",
       "        embed_document(root);\n",
       "        clearInterval(timer);\n",
       "      }\n",
       "      attempts++;\n",
       "      if (attempts > 100) {\n",
       "        console.log(\"Bokeh: ERROR: Unable to run BokehJS code because BokehJS library is missing\");\n",
       "        clearInterval(timer);\n",
       "      }\n",
       "    }, 10, root)\n",
       "  }\n",
       "})(window);"
      ],
      "application/vnd.bokehjs_exec.v0+json": ""
     },
     "metadata": {
      "application/vnd.bokehjs_exec.v0+json": {
       "id": "15246"
      }
     },
     "output_type": "display_data"
    }
   ],
   "source": [
    "for i, confidence in enumerate(feature_confidence):\n",
    "    fig = figure(y_range = cols[borda_rankings[i]][-10:], plot_height=250, title= exp_dir + \" Categorical Importance Run: \" + str(i+1))\n",
    "    fig.hbar(y = cols[borda_rankings[i]][-10:], right = confidence[:,0][borda_rankings[i]][-10:], height=0.2)\n",
    "    show(fig)"
   ]
  },
  {
   "cell_type": "code",
   "execution_count": 49,
   "metadata": {},
   "outputs": [
    {
     "name": "stderr",
     "output_type": "stream",
     "text": [
      "/home/webvalley/anaconda3/envs/mlpy/lib/python3.6/site-packages/ipykernel_launcher.py:23: DeprecationWarning: This function is deprecated. Please call randint(0, 249 + 1) instead\n"
     ]
    }
   ],
   "source": [
    "reshaped_importanced = feature_importance.reshape((250, len(cols)))\n",
    "borda = borda_count((np.argsort(reshaped_importanced)))[0]\n",
    "feature_confidence = np.zeros((len(cols),2))\n",
    "for j in range(len(cols)):\n",
    "    f_imp = reshaped_importanced[:, j]\n",
    "    f_min_max = bootstrap_ci(f_imp)\n",
    "    f_mean = np.mean(f_min_max)\n",
    "    f_error = f_min_max[1] - f_mean\n",
    "    feature_confidence[j] = (f_mean, f_error)"
   ]
  },
  {
   "cell_type": "code",
   "execution_count": 51,
   "metadata": {},
   "outputs": [
    {
     "data": {
      "image/png": "[encoded data removed]",
      "text/plain": [
       "<Figure size 432x288 with 1 Axes>"
      ]
     },
     "metadata": {
      "needs_background": "light"
     },
     "output_type": "display_data"
    }
   ],
   "source": [
    "fig = plt.figure()\n",
    "plt.title(\"Total Confidence in Experiment: \" + exp_dir)\n",
    "plt.barh(range(1,11), feature_confidence[:,0][borda][-10:], xerr=feature_confidence[:,1][borda][-10:])\n",
    "plt.yticks(range(1, 11), labels=cols[borda][-10:])\n",
    "plt.savefig(os.path.join(folder_path,\"total_figure.png\"), bbox_inches='tight')\n",
    "plt.show()"
   ]
  },
  {
   "cell_type": "code",
   "execution_count": null,
   "metadata": {},
   "outputs": [],
   "source": []
  }
 ],
 "metadata": {
  "celltoolbar": "Tags",
  "kernelspec": {
   "display_name": "Python 3.6 (MLPY)",
   "language": "python",
   "name": "mlpy"
  },
  "language_info": {
   "codemirror_mode": {
    "name": "ipython",
    "version": 3
   },
   "file_extension": ".py",
   "mimetype": "text/x-python",
   "name": "python",
   "nbconvert_exporter": "python",
   "pygments_lexer": "ipython3",
   "version": "3.6.8"
  }
 },
 "nbformat": 4,
 "nbformat_minor": 2
}
