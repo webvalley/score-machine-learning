{
 "cells": [
  {
   "cell_type": "code",
   "execution_count": null,
   "metadata": {},
   "outputs": [],
   "source": [
    "import pickle\n",
    "import os\n",
    "import math\n",
    "import pandas as pd\n",
    "import numpy as np\n",
    "from sklearn import preprocessing\n",
    "from scipy.spatial import distance\n",
    "import matplotlib.pyplot as plt\n",
    "np.random.seed(42)\n",
    "import keras\n",
    "from keras.models import Model, Sequential\n",
    "from keras.layers import Embedding, Dense, Dropout, Input, Concatenate, concatenate, Flatten, Reshape, Lambda\n",
    "from keras.callbacks import EarlyStopping\n",
    "from keras.utils import plot_model\n",
    "from sklearn.model_selection import train_test_split as splt\n",
    "os.environ[\"CUDA_VISIBLE_DEVICES\"] = \"0\"\n",
    "\n",
    "from bokeh.plotting import figure, output_notebook, show, output_file, save\n",
    "from bokeh.io import export_png\n",
    "\n",
    "#output_notebook()"
   ]
  },
  {
   "cell_type": "code",
   "execution_count": null,
   "metadata": {},
   "outputs": [],
   "source": [
    "from keras import backend as K\n",
    "\n",
    "def get_activations(model, layer, X_batch):\n",
    "    activations_f = K.function([model.layers[0].input, K.learning_phase()], [layer.output,])\n",
    "    activations = activations_f((X_batch, False))\n",
    "    return activations"
   ]
  },
  {
   "cell_type": "code",
   "execution_count": null,
   "metadata": {},
   "outputs": [],
   "source": [
    "def step1(age, sex, chd=True):\n",
    "    # CHD\n",
    "    if chd:  # constants for chd\n",
    "        if sex:  # 0 for men and 1 for women\n",
    "            a = -29.8\n",
    "            p = 6.36\n",
    "        else:\n",
    "            a = -22.1\n",
    "            p = 4.71\n",
    "\n",
    "    else:  # constants for non chd\n",
    "        if sex:\n",
    "            a = -31.0\n",
    "            p = 6.62\n",
    "        else:\n",
    "\n",
    "            a = -26.7\n",
    "            p = 5.64\n",
    "\n",
    "    # print(\"a =\", a, \"; p =\",p)\n",
    "\n",
    "    s = math.exp(-(math.exp(a)) * (age - 20) ** p)\n",
    "    return s\n",
    "\n",
    "\n",
    "def step2(chol, SBP, smoker, chd=True):\n",
    "    if chd:\n",
    "        c_smoker = 0.71\n",
    "        c_chol = 0.24\n",
    "        c_SBP = 0.018\n",
    "    else:\n",
    "        c_smoker = 0.63\n",
    "        c_chol = 0.02\n",
    "        c_SBP = 0.022\n",
    "\n",
    "    w = (c_chol * (chol - 6)) + (c_SBP * (SBP - 120)) + (c_smoker * smoker)\n",
    "    return w\n",
    "\n",
    "\n",
    "def score_algorithm(age, chol, SBP, sex, smoker):\n",
    "    # CHD\n",
    "    smoker = 1 if smoker >= 1 else 0\n",
    "\n",
    "    \n",
    "    s = step1(age, sex)\n",
    "    s10 = step1(age + 10, sex)\n",
    "\n",
    "    w = step2(chol, SBP, smoker)\n",
    "    \n",
    "\n",
    "    s = s ** (math.exp(w))\n",
    "    s10 = s10 ** (math.exp(w))\n",
    "    try:\n",
    "        stot = s10 / s\n",
    "    except:\n",
    "        stot = 1\n",
    "    riskc = 1 - stot\n",
    "\n",
    "    # NON CHD\n",
    "    s = step1(age, sex, chd=False)\n",
    "    s10 = step1(age + 10, sex, chd=False)\n",
    "\n",
    "    w = step2(chol, SBP, smoker, chd=False)\n",
    "\n",
    "    s = s ** (math.exp(w))\n",
    "    s10 = s10 ** (math.exp(w))\n",
    "    try:\n",
    "        stot = s10 / s\n",
    "    except:\n",
    "        stot = 1\n",
    "    risknon = 1 - stot\n",
    "\n",
    "    # print (\"risk CHD: \", riskc *100)\n",
    "    # print (\"risk nonCHD: \" ,risknon * 100)\n",
    "    risktot = 1 - (1 - riskc) * (1 - risknon)\n",
    "\n",
    "    # print('total RISK:',risktot)\n",
    "    return risktot"
   ]
  },
  {
   "cell_type": "code",
   "execution_count": null,
   "metadata": {},
   "outputs": [],
   "source": [
    "def plot_history(history):\n",
    "    loss_list = [s for s in history.history.keys() if 'loss' in s and 'val' not in s]\n",
    "    val_loss_list = [s for s in history.history.keys() if 'loss' in s and 'val' in s]\n",
    "    acc_list = [s for s in history.history.keys() if 'acc' in s and 'val' not in s]\n",
    "    val_acc_list = [s for s in history.history.keys() if 'acc' in s and 'val' in s]\n",
    "\n",
    "    if len(loss_list) == 0:\n",
    "        print('Loss is missing in history')\n",
    "        return \n",
    "    \n",
    "    ## As loss always exists\n",
    "    epochs = range(1,len(history.history[loss_list[0]]) + 1)\n",
    "    \n",
    "    ## Loss\n",
    "    plt.figure(1)\n",
    "    for l in loss_list:\n",
    "        plt.plot(epochs, history.history[l], 'b', label='Training loss (' + str(str(format(history.history[l][-1],'.5f'))+')'))\n",
    "    for l in val_loss_list:\n",
    "        plt.plot(epochs, history.history[l], 'g', label='Validation loss (' + str(str(format(history.history[l][-1],'.5f'))+')'))\n",
    "    \n",
    "    plt.title('Loss')\n",
    "    plt.xlabel('Epochs')\n",
    "    plt.ylabel('Loss')\n",
    "    plt.legend()\n",
    "    \n",
    "    ## Accuracy\n",
    "    plt.figure(2)\n",
    "    for l in acc_list:\n",
    "        plt.plot(epochs, history.history[l], 'b', label='Training accuracy (' + str(format(history.history[l][-1],'.5f'))+')')\n",
    "    for l in val_acc_list:    \n",
    "        plt.plot(epochs, history.history[l], 'g', label='Validation accuracy (' + str(format(history.history[l][-1],'.5f'))+')')\n",
    "    \n",
    "    plt.title('Accuracy')\n",
    "    plt.xlabel('Epochs')\n",
    "    plt.ylabel('Accuracy')\n",
    "    plt.legend()\n",
    "    plt.show()"
   ]
  },
  {
   "cell_type": "code",
   "execution_count": null,
   "metadata": {},
   "outputs": [],
   "source": [
    "dfx = pd.read_csv(\"Data/plic_milano_clean.csv\")"
   ]
  },
  {
   "cell_type": "code",
   "execution_count": null,
   "metadata": {},
   "outputs": [],
   "source": [
    "y = np.zeros(dfx.shape[0])\n",
    "for i, visit in dfx.iterrows():\n",
    "    age = dfx['ana:age'][i]\n",
    "    chol = dfx['lab:total_cholesterol'][i] * 0.02586\n",
    "    pas = float(dfx['esa_obi:sbp'][i])\n",
    "    sex = dfx['ana:gender'][i]\n",
    "    smoker = dfx['ana_fis:smoking_recod'][i]\n",
    "    \n",
    "    y[i] = score_algorithm(age, chol, pas, sex, smoker)\n",
    "\n",
    "# Thresholds are 0 - 0.01, 0.01 - 0.02, 0.02 - 0.05, 0.05 - 1    \n",
    "\n",
    "y_cat = np.zeros((y.shape[0], 4))\n",
    "stats = np.zeros(y.shape[0])\n",
    "for i, val in enumerate(y):\n",
    "    if(val < 0.01): # No\n",
    "        y_cat[i][0] = 1\n",
    "    elif(val < 0.02): # Low\n",
    "        y_cat[i][1] = 1\n",
    "        stats[i] = 1\n",
    "    elif(val < 0.05): # Medium\n",
    "        y_cat[i][2] = 1\n",
    "        stats[i] = 2\n",
    "    else:             # High \n",
    "        y_cat[i][3] = 1\n",
    "        stats[i] = 3\n",
    "        \n",
    "y_cat.shape\n",
    "\n",
    "plt.hist(stats)\n",
    "plt.show()\n",
    "\n",
    "unique, counts = np.unique(stats, return_counts=True)\n",
    "for i in range(4):\n",
    "    print(\"El: {} \\tCount: {} \\tPercentage: {}%\".format(int(unique[i]), counts[i], round(counts[i]/len(stats)*100, 2)))"
   ]
  },
  {
   "cell_type": "code",
   "execution_count": null,
   "metadata": {},
   "outputs": [],
   "source": [
    "dfx = dfx.drop(labels = ['lab:total_cholesterol', \"esa_obi:sbp\", \"ana_fis:smoking_recod\", \"Unnamed: 0\"], axis=1)\n",
    "dfx = dfx.dropna(how='any', axis=1)\n",
    "dfx = dfx.select_dtypes(include=['int'])"
   ]
  },
  {
   "cell_type": "code",
   "execution_count": null,
   "metadata": {},
   "outputs": [],
   "source": [
    "threshold = 10\n",
    "dfxInt = dfx.select_dtypes(include=['int'])\n",
    "dfxCat = dfxInt[dfxInt.columns[dfxInt.max()<=threshold]]\n",
    "\n",
    "#dfxCont = dfxInt[dfxInt.columns[dfxInt.max()>threshold]] + dfx.select_dtypes(include=['float'])\n",
    "\n",
    "# dfxCat.describe()\n",
    "# dfxCont.describe()\n",
    "print(dfx.shape)\n",
    "print(dfxCat.shape)"
   ]
  },
  {
   "cell_type": "code",
   "execution_count": null,
   "metadata": {},
   "outputs": [],
   "source": [
    "headers = set(col.split(':')[0] for col in dfxCat.columns.values)"
   ]
  },
  {
   "cell_type": "code",
   "execution_count": null,
   "metadata": {},
   "outputs": [],
   "source": [
    "headers"
   ]
  },
  {
   "cell_type": "code",
   "execution_count": null,
   "metadata": {},
   "outputs": [],
   "source": [
    "drop_cols = dfxCat.columns[dfxCat.columns.str.endswith('_self')].values.tolist()"
   ]
  },
  {
   "cell_type": "code",
   "execution_count": null,
   "metadata": {},
   "outputs": [],
   "source": [
    "drop_cols"
   ]
  },
  {
   "cell_type": "code",
   "execution_count": null,
   "metadata": {},
   "outputs": [],
   "source": [
    "dfxCat = dfxCat.drop(drop_cols, axis=1)"
   ]
  },
  {
   "cell_type": "code",
   "execution_count": null,
   "metadata": {},
   "outputs": [],
   "source": [
    "categories = dfxCat[dfxCat.columns[dfxCat.columns.str.startswith('ana_pat') |  \n",
    "                                   dfxCat.columns.str.startswith('ana_far') | \n",
    "                                   dfxCat.columns.str.startswith('ult_tsa')]]"
   ]
  },
  {
   "cell_type": "code",
   "execution_count": null,
   "metadata": {},
   "outputs": [],
   "source": [
    "categories_np = categories.values\n",
    "# categories_np = np.transpose(categories_np)\n",
    "categories_np.shape"
   ]
  },
  {
   "cell_type": "code",
   "execution_count": null,
   "metadata": {},
   "outputs": [],
   "source": [
    "\n",
    "models = []\n",
    "for i, cat in enumerate(categories):\n",
    "    m = Sequential()\n",
    "    m.add(Embedding(10, categories[cat].nunique(), input_length=1, input_shape=()))\n",
    "    m.add(Flatten())\n",
    "    models.append(m)\n",
    "    print(model.summary())\n",
    "    \n",
    "full_model = Sequential()\n",
    "full_model.add(Concatenate(models))\n",
    "full_model.add(Dense(32, activation='sigmoid'))\n",
    "full_model.add(Dense(16, activation='sigmoid'))\n",
    "full_model.add(Dense(8, activation='sigmoid'))\n",
    "full_model.add(Dense(4, activation='softmax'))    \n",
    "\n",
    "\n",
    "\n",
    "# catIn = Input(shape=(categories_np.shape[1],))\n",
    "# models = []\n",
    "# for i, cat in enumerate(categories):\n",
    "#     m = Embedding(10, categories[cat].nunique(), input_length=1)(catIn)\n",
    "#     m = Flatten()(m)\n",
    "#     models.append(m)\n",
    "\n",
    "\n",
    "\n",
    "\n",
    "\n",
    "# catInputs = []\n",
    "# for i in range(categories_np.shape[0]):\n",
    "#     catInputs.append(Input(shape=(1,)))\n",
    "# models = []\n",
    "# for i, cat in enumerate(categories):\n",
    "#     m = Embedding(10, categories[cat].nunique(), input_length=1)(catInputs[i])\n",
    "#     m = Flatten()(m)\n",
    "#     models.append(m)\n",
    "    \n",
    "\n",
    "    \n",
    "    \n",
    "    \n",
    "# concatenation = Concatenate()(models)\n",
    "# model = Dense(64, activation='sigmoid')(concatenation)\n",
    "# model = Dense(32, activation='sigmoid')(model)\n",
    "# model = Dense(16, activation='sigmoid')(model)\n",
    "# model = Dense(8, activation='sigmoid')(model)\n",
    "\n",
    "# output = Dense(4, activation='softmax')(model)\n",
    "\n",
    "# model = Model(inputs = catInputs, outputs = [output])"
   ]
  },
  {
   "cell_type": "code",
   "execution_count": null,
   "metadata": {},
   "outputs": [],
   "source": [
    "full_model.compile(loss='categorical_crossentropy', optimizer='adam', metrics=['accuracy'])"
   ]
  },
  {
   "cell_type": "code",
   "execution_count": null,
   "metadata": {},
   "outputs": [],
   "source": [
    "full_model.summary()"
   ]
  },
  {
   "cell_type": "code",
   "execution_count": null,
   "metadata": {},
   "outputs": [],
   "source": [
    "x_Cat_tr, x_Cat_ts, y_tr, y_ts = splt(categories_np, y_cat, test_size=0.25, random_state=42)"
   ]
  },
  {
   "cell_type": "code",
   "execution_count": null,
   "metadata": {},
   "outputs": [],
   "source": [
    "history = model.fit(x=x_Cat_tr, y=y_tr, \n",
    "                    validation_data=(x_Cat_ts, y_ts), \n",
    "                    epochs=100\n",
    "                   )"
   ]
  },
  {
   "cell_type": "code",
   "execution_count": null,
   "metadata": {},
   "outputs": [],
   "source": [
    "plot_history(history)"
   ]
  },
  {
   "cell_type": "code",
   "execution_count": null,
   "metadata": {},
   "outputs": [],
   "source": [
    "#fn = \"_embedded_single_cat_\""
   ]
  },
  {
   "cell_type": "code",
   "execution_count": null,
   "metadata": {},
   "outputs": [],
   "source": [
    "#model.save(\"Models/model\" + fn + \".h5\")"
   ]
  },
  {
   "cell_type": "code",
   "execution_count": null,
   "metadata": {},
   "outputs": [],
   "source": [
    "#pickle.dump(history, open(\"History/history\" + fn + \".pkl\", \"wb\"))"
   ]
  },
  {
   "cell_type": "code",
   "execution_count": null,
   "metadata": {},
   "outputs": [],
   "source": [
    "%matplotlib inline"
   ]
  },
  {
   "cell_type": "code",
   "execution_count": null,
   "metadata": {},
   "outputs": [],
   "source": [
    "import keras\n",
    "import pydot as pyd\n",
    "from IPython.display import Image\n",
    "from keras.utils.vis_utils import model_to_dot\n",
    "\n",
    "keras.utils.vis_utils.pydot = pyd\n",
    "\n",
    "#Visualize Model\n",
    "\n",
    "def visualize_model(model):\n",
    "  return Image(model_to_dot(model).create(prog='dot', format='png'))\n",
    "\n",
    "visualize_model(model)"
   ]
  },
  {
   "cell_type": "code",
   "execution_count": null,
   "metadata": {},
   "outputs": [],
   "source": [
    "embeddings_tr = get_activations(model, model.layers[1], X_batch=x_Cat_tr)[0]\n",
    "embeddings_ts = get_activations(model, model.layers[1], X_batch=x_Cat_ts)[0]"
   ]
  },
  {
   "cell_type": "code",
   "execution_count": null,
   "metadata": {},
   "outputs": [],
   "source": [
    "len(model.layers)"
   ]
  },
  {
   "cell_type": "code",
   "execution_count": null,
   "metadata": {},
   "outputs": [],
   "source": [
    "model.layers"
   ]
  },
  {
   "cell_type": "code",
   "execution_count": null,
   "metadata": {},
   "outputs": [],
   "source": [
    "embeddings_tr.shape"
   ]
  },
  {
   "cell_type": "code",
   "execution_count": null,
   "metadata": {},
   "outputs": [],
   "source": [
    "embeddings_ts.shape"
   ]
  },
  {
   "cell_type": "code",
   "execution_count": null,
   "metadata": {},
   "outputs": [],
   "source": [
    "embeddings_tr = embeddings_tr.reshape((4335, 2, 48))\n",
    "embeddings_ts = embeddings_ts.reshape((1445, 2, 48))"
   ]
  },
  {
   "cell_type": "code",
   "execution_count": null,
   "metadata": {},
   "outputs": [],
   "source": [
    "colors_map_tr = np.argmax(y_tr, axis=1)\n",
    "colors_map_ts = np.argmax(y_ts, axis=1)"
   ]
  },
  {
   "cell_type": "code",
   "execution_count": null,
   "metadata": {},
   "outputs": [],
   "source": [
    "scale = 1"
   ]
  },
  {
   "cell_type": "code",
   "execution_count": null,
   "metadata": {},
   "outputs": [],
   "source": [
    "colors = [x for x in 'yellow-orange-red-blue'.split('-')]"
   ]
  },
  {
   "cell_type": "code",
   "execution_count": null,
   "metadata": {},
   "outputs": [],
   "source": [
    "from sklearn.manifold import MDS, TSNE"
   ]
  },
  {
   "cell_type": "code",
   "execution_count": null,
   "metadata": {},
   "outputs": [],
   "source": [
    "embeddings_tr_tsne_list = []\n",
    "for layer in range(embeddings_tr.shape[2]):\n",
    "    print(layer, end=' ')\n",
    "    tsne = TSNE(n_components=2)\n",
    "    embeddings_tr_tsne_list.append(tsne.fit_transform(embeddings_tr[:, :, layer]))"
   ]
  },
  {
   "cell_type": "code",
   "execution_count": null,
   "metadata": {},
   "outputs": [],
   "source": [
    "len(embeddings_tr_tsne_list)"
   ]
  },
  {
   "cell_type": "code",
   "execution_count": null,
   "metadata": {},
   "outputs": [],
   "source": [
    "for layer in range(embeddings_tr.shape[2]):\n",
    "    print(layer)\n",
    "    p = figure(plot_width=300, plot_height=300)\n",
    "    for cl in range(4):\n",
    "        indices = np.where(colors_map_tr==cl)[0]\n",
    "        p.circle(embeddings_tr_tsne_list[layer][indices, 0]*scale*100, embeddings_tr_tsne_list[layer][indices, 1]*scale*100, \n",
    "                 color=colors[cl], size=20, alpha=0.4)\n",
    "    output_file(\"bokeh1_\" + str(layer) + \".html\")\n",
    "    save(p)\n",
    "    #show(p)\n",
    "    "
   ]
  },
  {
   "cell_type": "code",
   "execution_count": null,
   "metadata": {},
   "outputs": [],
   "source": [
    "# p = figure(plot_width=600, plot_height=600)\n",
    "\n",
    "# for cl in range(4):\n",
    "#     indices = np.where(colors_map_ts==cl)[0]\n",
    "#     p.circle(embeddings_ts_tsne[indices, 0]*scale*100, embeddings_ts_tsne[indices, 1]*scale*100, \n",
    "#              color=colors[cl], size=20, alpha=0.4)\n",
    "\n",
    "# show(p)"
   ]
  },
  {
   "cell_type": "code",
   "execution_count": null,
   "metadata": {},
   "outputs": [],
   "source": []
  }
 ],
 "metadata": {
  "kernelspec": {
   "display_name": "Python [conda env:score]",
   "language": "python",
   "name": "conda-env-score-py"
  },
  "language_info": {
   "codemirror_mode": {
    "name": "ipython",
    "version": 3
   },
   "file_extension": ".py",
   "mimetype": "text/x-python",
   "name": "python",
   "nbconvert_exporter": "python",
   "pygments_lexer": "ipython3",
   "version": "3.7.3"
  }
 },
 "nbformat": 4,
 "nbformat_minor": 2
}
