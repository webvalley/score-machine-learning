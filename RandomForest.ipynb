{
 "cells": [
  {
   "cell_type": "code",
   "execution_count": null,
   "metadata": {},
   "outputs": [],
   "source": [
    "import pickle\n",
    "import os\n",
    "import pandas as pd\n",
    "import seaborn as sn\n",
    "import numpy as np\n",
    "np.random.seed(42)\n",
    "from sklearn.tree import export_graphviz\n",
    "from sklearn import utils\n",
    "from sklearn.ensemble import RandomForestClassifier as rfc\n",
    "from sklearn.neighbors import KNeighborsClassifier as knc\n",
    "from sklearn.model_selection import train_test_split as splt\n",
    "from sklearn.model_selection import StratifiedKFold\n",
    "from sklearn.metrics import matthews_corrcoef as mcc \n",
    "from sklearn.metrics import accuracy_score as acc\n",
    "from sklearn.impute import SimpleImputer\n",
    "from sklearn.decomposition import PCA\n",
    "from scipy import sparse\n",
    "import matplotlib.pyplot as plt"
   ]
  },
  {
   "cell_type": "code",
   "execution_count": null,
   "metadata": {},
   "outputs": [],
   "source": [
    "dfx = pd.read_excel(\"Milano_Cleaned_wSCORE.xlsx\")"
   ]
  },
  {
   "cell_type": "code",
   "execution_count": null,
   "metadata": {},
   "outputs": [],
   "source": [
    "# Thresholds are 0 - 0.01, 0.01 - 0.02, 0.02 - 0.05, 0.05 - 1\n",
    "y = dfx[\"SCORE\"].values/100\n",
    "y_cat = np.zeros((y.shape[0]))\n",
    "for i, val in enumerate(y):\n",
    "    if(val < 0.01):\n",
    "        y_cat[i] = 1\n",
    "    elif(val < 0.02):\n",
    "        y_cat[i] = 2\n",
    "    elif(val < 0.05):\n",
    "        y_cat[i] = 3\n",
    "    else:\n",
    "        y_cat[i] = 4"
   ]
  },
  {
   "cell_type": "code",
   "execution_count": null,
   "metadata": {},
   "outputs": [],
   "source": [
    "unique, counts = np.unique(y_cat, return_counts=True)\n",
    "dict(zip(unique, counts))"
   ]
  },
  {
   "cell_type": "code",
   "execution_count": null,
   "metadata": {},
   "outputs": [],
   "source": [
    "dfx = dfx.select_dtypes(exclude=['object', 'datetime64'])\n",
    "dfx = dfx.drop(labels = ['SCORE', 'smoking', 'smoking_recod', 'LDL_calc', 'glucose', 'Unnamed: 0', 'Unnamed: 0.1'], axis=1) #\n",
    "dfx = dfx.fillna(-1)"
   ]
  },
  {
   "cell_type": "code",
   "execution_count": null,
   "metadata": {},
   "outputs": [],
   "source": [
    "X = np.around(dfx.values).astype(int)\n",
    "imputer = SimpleImputer(missing_values=-1, strategy='median')\n",
    "imputer.fit_transform(X)\n",
    "print(X)\n",
    "X = X + 1\n",
    "X = X[:,X.max(axis=0) > 0]\n",
    "X = X/X.max(axis=0)\n",
    "X.max(axis=0)"
   ]
  },
  {
   "cell_type": "code",
   "execution_count": null,
   "metadata": {},
   "outputs": [],
   "source": [
    "def train_rfc(num_iter, X_tr, X_ts, y_tr, y_ts):\n",
    "    clf = rfc(n_estimators = 1000, max_depth = 100, random_state = 42, class_weight=\"balanced_subsample\")\n",
    "    clf.fit(X_tr, y_tr)\n",
    "    print(X_tr.shape)\n",
    "    print(X_ts.shape)\n",
    "    print(y_tr.shape)\n",
    "    print(y_ts.shape)\n",
    "    y_ts_pred = clf.predict(X_ts)\n",
    "    mcc1 = mcc(y_ts, y_ts_pred)\n",
    "    acc1 = acc(y_ts, y_ts_pred)\n",
    "    cmatrix = np.zeros((4,4))\n",
    "    for i,y_our in enumerate(y_ts_pred):\n",
    "        cmatrix[int(y_our)-1][int(y_ts[i])-1] += 1\n",
    "    df_cm = pd.DataFrame(cmatrix, index = [\"No\", \"Low\", \"Med\", \"High\"], columns = [\"No\", \"Low\", \"Med\", \"High\"])\n",
    "    plt.figure(figsize = (10,7))\n",
    "    confmat = sn.heatmap(df_cm, annot=True,  fmt='g', cmap=\"Blues\")\n",
    "    confmat.get_figure().savefig(\"Graphs/RFC_IMPUTED_CONFUSION_MATRIX_\" + str(num_iter) + \".png\")\n",
    "    return acc1, mcc1"
   ]
  },
  {
   "cell_type": "code",
   "execution_count": null,
   "metadata": {},
   "outputs": [],
   "source": [
    "skf = StratifiedKFold(n_splits=8, random_state=42, shuffle=False)\n",
    "skf.get_n_splits(X, y_cat)\n",
    "metricss = []\n",
    "c = 0\n",
    "for train_index, test_index in skf.split(X, y_cat):\n",
    "    X_tr, X_ts = X[train_index], X[test_index]\n",
    "    y_tr, y_ts = y_cat[train_index], y_cat[test_index]\n",
    "    X_tr_sparse = sparse.csr_matrix(X_tr)\n",
    "    X_ts_sparse = sparse.csr_matrix(X_ts)\n",
    "    acc1, mcc1 = train_rfc(c, X_tr_sparse, X_ts_sparse, y_tr, y_ts)\n",
    "    metricss.append((acc1, mcc1))\n",
    "    c += 1"
   ]
  },
  {
   "cell_type": "code",
   "execution_count": null,
   "metadata": {},
   "outputs": [],
   "source": [
    "metricss"
   ]
  },
  {
   "cell_type": "code",
   "execution_count": null,
   "metadata": {},
   "outputs": [],
   "source": [
    "temp1 = [a for a,b in metricss]\n",
    "temp2 = [b for a,b in metricss]"
   ]
  },
  {
   "cell_type": "code",
   "execution_count": null,
   "metadata": {},
   "outputs": [],
   "source": [
    "temp1, temp2"
   ]
  },
  {
   "cell_type": "code",
   "execution_count": null,
   "metadata": {},
   "outputs": [],
   "source": []
  }
 ],
 "metadata": {
  "kernelspec": {
   "display_name": "Python 3",
   "language": "python",
   "name": "python3"
  },
  "language_info": {
   "codemirror_mode": {
    "name": "ipython",
    "version": 3
   },
   "file_extension": ".py",
   "mimetype": "text/x-python",
   "name": "python",
   "nbconvert_exporter": "python",
   "pygments_lexer": "ipython3",
   "version": "3.7.3"
  }
 },
 "nbformat": 4,
 "nbformat_minor": 2
}
