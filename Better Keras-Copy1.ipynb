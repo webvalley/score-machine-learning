{
 "cells": [
  {
   "cell_type": "code",
   "execution_count": 3,
   "metadata": {},
   "outputs": [
    {
     "name": "stderr",
     "output_type": "stream",
     "text": [
      "Using TensorFlow backend.\n"
     ]
    }
   ],
   "source": [
    "import os\n",
    "import pickle\n",
    "import numpy as np\n",
    "np.random.seed(42)\n",
    "import pandas as pd\n",
    "import keras\n",
    "from keras.models import Model\n",
    "from keras.layers import Embedding, Dense, Dropout, Input, Concatenate\n",
    "from keras.callbacks import EarlyStopping\n",
    "from keras.utils import plot_model\n",
    "from sklearn.model_selection import train_test_split as splt\n",
    "import matplotlib.pyplot as plt\n",
    "os.environ[\"CUDA_VISIBLE_DEVICES\"] = \"2\""
   ]
  },
  {
   "cell_type": "code",
   "execution_count": 4,
   "metadata": {},
   "outputs": [
    {
     "name": "stderr",
     "output_type": "stream",
     "text": [
      "/home/webvalley/anaconda3/envs/score/lib/python3.7/site-packages/IPython/core/interactiveshell.py:3049: DtypeWarning: Columns (14,29,36,44,51,94,104,105,112,113,120,127,130,149,158,168,237,239,240,241,248,249,256,273,298) have mixed types. Specify dtype option on import or set low_memory=False.\n",
      "  interactivity=interactivity, compiler=compiler, result=result)\n"
     ]
    }
   ],
   "source": [
    "dfy = pd.read_csv(\"MILANO_wSCORE.csv\")\n",
    "dfx = pd.read_csv(\"PLIC-milano-processed.csv\", sep=\";\")"
   ]
  },
  {
   "cell_type": "code",
   "execution_count": 5,
   "metadata": {},
   "outputs": [],
   "source": [
    "# Thresholds are 0 - 0.01, 0.01 - 0.02, 0.02 - 0.05, 0.05 - 1\n",
    "y = dfy[\"SCORE\"].values/100\n",
    "y_cat = np.zeros((y.shape[0], 4))\n",
    "for i, val in enumerate(y):\n",
    "    if(val < 0.01):\n",
    "        y_cat[i][0] = 1\n",
    "    elif(val < 0.02):\n",
    "        y_cat[i][1] = 1\n",
    "    elif(val < 0.05):\n",
    "        y_cat[i][2] = 1\n",
    "    else:\n",
    "        y_cat[i][3] = 1"
   ]
  },
  {
   "cell_type": "code",
   "execution_count": 6,
   "metadata": {},
   "outputs": [],
   "source": [
    "dfx = dfx.select_dtypes(exclude=['object'])\n",
    "dfx = dfx.drop(labels = ['Unnamed: 0', 'Unnamed: 0.1', 'cod pcs'], axis=1) \n",
    "dfx = dfx.dropna(how='any', axis=1)\n",
    "dfx = dfx.drop([col for col in dfx.columns if \"date\" in col], axis = 1)"
   ]
  },
  {
   "cell_type": "code",
   "execution_count": 7,
   "metadata": {},
   "outputs": [],
   "source": [
    "dfxFloats = dfx.select_dtypes(include = 'float')\n",
    "dfxInt = dfx.select_dtypes(include = 'int')\n",
    "dfxFloats = dfxFloats.join(dfx['TG']).join(dfx['HDL']).join(dfx['glucose']).join(dfx['ages']).join(dfx['TORQUE AND ANGLE WRENCH'])\n",
    "dfxInt = dfxInt.drop(['TG', 'TORQUE AND ANGLE WRENCH', 'HDL', 'glucose', 'ages'], axis = 1)\n",
    "dfxInt = dfxInt[dfxInt.columns[dfxInt.max()>0]]"
   ]
  },
  {
   "cell_type": "code",
   "execution_count": 8,
   "metadata": {},
   "outputs": [],
   "source": [
    "def print_full(x):\n",
    "    pd.set_option('display.max_rows', len(x))\n",
    "    pd.set_option('display.max_columns', None)\n",
    "    pd.set_option('display.width', 2000)\n",
    "    pd.set_option('display.float_format', '{:20,.2f}'.format)\n",
    "    pd.set_option('display.max_colwidth', -1)\n",
    "    print(x)\n",
    "    pd.reset_option('display.max_rows')\n",
    "    pd.reset_option('display.max_columns')\n",
    "    pd.reset_option('display.width')\n",
    "    pd.reset_option('display.float_format')\n",
    "    pd.reset_option('display.max_colwidth')\n",
    "#print_full(dfxInt.max())\n",
    "#print_full(dfxFloats.max())"
   ]
  },
  {
   "cell_type": "code",
   "execution_count": 9,
   "metadata": {},
   "outputs": [],
   "source": [
    "xCat = dfxInt.values\n",
    "xCont = dfxFloats.values"
   ]
  },
  {
   "cell_type": "code",
   "execution_count": 10,
   "metadata": {},
   "outputs": [
    {
     "name": "stdout",
     "output_type": "stream",
     "text": [
      "(5780, 95)\n",
      "(5780, 77)\n"
     ]
    }
   ],
   "source": [
    "print(xCat.shape)\n",
    "print(xCont.shape)"
   ]
  },
  {
   "cell_type": "code",
   "execution_count": 11,
   "metadata": {},
   "outputs": [],
   "source": [
    "contBranch = Input(shape=(76,))\n",
    "catBranch = Input(shape=(98,))"
   ]
  },
  {
   "cell_type": "code",
   "execution_count": 23,
   "metadata": {},
   "outputs": [
    {
     "name": "stdout",
     "output_type": "stream",
     "text": [
      "abortion n 5\n",
      "alcohols 2\n",
      "aorta calcifications 2\n",
      "right corneal arch 2\n",
      "left corneal arch 2\n",
      "physical activity 3\n",
      "physical activity intensity 3\n",
      "self dyslipidaemia 4\n",
      "self type dyslipidemia 6\n",
      "enlarged liver 2\n",
      "smoking recod 2\n",
      "learning 4\n",
      "PLACA 9\n",
      "steatosis degree 3\n",
      "steatosis NS 2\n",
      "thyroid function 2\n"
     ]
    }
   ],
   "source": [
    "cols = dfxInt.columns\n",
    "for i, colMax in enumerate(dfxInt.max()):\n",
    "    if(colMax > 1):\n",
    "        print(cols[i], colMax)"
   ]
  },
  {
   "cell_type": "code",
   "execution_count": null,
   "metadata": {},
   "outputs": [],
   "source": []
  }
 ],
 "metadata": {
  "kernelspec": {
   "display_name": "Python 3",
   "language": "python",
   "name": "python3"
  },
  "language_info": {
   "codemirror_mode": {
    "name": "ipython",
    "version": 3
   },
   "file_extension": ".py",
   "mimetype": "text/x-python",
   "name": "python",
   "nbconvert_exporter": "python",
   "pygments_lexer": "ipython3",
   "version": "3.7.3"
  }
 },
 "nbformat": 4,
 "nbformat_minor": 2
}
