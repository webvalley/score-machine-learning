{
 "cells": [
  {
   "cell_type": "code",
   "execution_count": null,
   "metadata": {},
   "outputs": [],
   "source": [
    "import pickle\n",
    "import os\n",
    "import pandas as pd\n",
    "import numpy as np\n",
    "np.random.seed(42)\n",
    "from sklearn.model_selection import train_test_split as splt\n",
    "import matplotlib.pyplot as plt\n",
    "import keras\n",
    "from keras.models import Sequential\n",
    "from keras.layers import Dense, Dropout, LSTM\n",
    "from keras.callbacks import EarlyStopping\n",
    "import seaborn as sns\n",
    "os.environ[\"CUDA_VISIBLE_DEVICES\"] = \"2\""
   ]
  },
  {
   "cell_type": "code",
   "execution_count": null,
   "metadata": {},
   "outputs": [],
   "source": [
    "df = pd.read_csv(\"Data/new_wScore.csv\")"
   ]
  },
  {
   "cell_type": "code",
   "execution_count": null,
   "metadata": {},
   "outputs": [],
   "source": [
    "df.sort_values(\"visit\")\n",
    "df = df.select_dtypes(exclude=['object', 'datetime64'])\n",
    "df = df.drop(labels = ['SCORE','ana_fis:smoking_recod', 'lab:glucose', 'lab:calculated_ldl', 'lab:total_cholesterol'], axis=1)\n",
    "df = df.fillna(-1).replace(-1, np.nan).replace(\"-1\", np.nan).replace(-1.0, np.nan)\n",
    "df = df.dropna(how='any', axis=1)"
   ]
  },
  {
   "cell_type": "code",
   "execution_count": null,
   "metadata": {},
   "outputs": [],
   "source": [
    "df.head()"
   ]
  },
  {
   "cell_type": "code",
   "execution_count": null,
   "metadata": {},
   "outputs": [],
   "source": [
    "d = {i: df.loc[df.subject_id == i, df.columns] for i in range(df.subject_id.iat[-1]+1)}\n",
    "d = {dx: d[dx] for dx in d if d[dx].shape[0] != 0}\n",
    "#X = np.array([np.array(values)[:-1,:-1] for key, values in d.items()])\n",
    "#X = np.array([X[:,:,i]/X[:,:,i].max() for i in range(X.shape[2])])\n",
    "#print(X.shape)\n",
    "#X = np.swapaxes(X, 0, 1)\n",
    "#X = np.swapaxes(X, 1, 2)\n",
    "#y = np.array([np.array(values)[-1,-1] for key, values in d.items()])\n",
    "#yy = np.zeros((y.shape[0], 4))\n",
    "#for i,yyy in enumerate(y):\n",
    "#    if(yyy < 0.01): # Low\n",
    "#       yy[i][0] = 1\n",
    "#    elif(yyy < 0.02): # Medium\n",
    "#        yy[i][1] = 1\n",
    "#    elif(yyy < 0.05): # High\n",
    "#        yy[i][2] = 1\n",
    "#    else: # Very High (aka Dead)\n",
    "#        yy[i][3] = 1 "
   ]
  },
  {
   "cell_type": "code",
   "execution_count": null,
   "metadata": {},
   "outputs": [],
   "source": [
    "X1 = []\n",
    "y1 = []\n",
    "X2 = []\n",
    "y2 = []\n",
    "X3 = []\n",
    "y3 = []\n",
    "for key, value in d.items():\n",
    "    row1 = value.iloc[[0]]\n",
    "    row2 = value.iloc[[1]]\n",
    "    row3 = value.iloc[[2]]\n",
    "    row4 = value.iloc[[3]]\n",
    "    y1.append(int(row2.ScoreClass))\n",
    "    X1.append(row1.drop('ScoreClass', axis=1).values[0])\n",
    "    y1.append(int(row3.ScoreClass))\n",
    "    X1.append(row2.drop('ScoreClass', axis=1).values[0])\n",
    "    y1.append(int(row4.ScoreClass))\n",
    "    X1.append(row3.drop('ScoreClass', axis=1).values[0])\n",
    "    y2.append(int(row3.ScoreClass))\n",
    "    X2.append(row1.drop('ScoreClass', axis=1).values[0])\n",
    "    y2.append(int(row4.ScoreClass))\n",
    "    X2.append(row2.drop('ScoreClass', axis=1).values[0])\n",
    "    y3.append(int(row4.ScoreClass))\n",
    "    X3.append(row1.drop('ScoreClass', axis=1).values[0])"
   ]
  },
  {
   "cell_type": "code",
   "execution_count": null,
   "metadata": {},
   "outputs": [],
   "source": [
    "X1 = np.array(X1)\n",
    "X2 = np.array(X2)\n",
    "X3 = np.array(X3)\n",
    "y1 = np.array(y1)\n",
    "y2 = np.array(y2)\n",
    "y3 = np.array(y3)"
   ]
  },
  {
   "cell_type": "code",
   "execution_count": null,
   "metadata": {},
   "outputs": [],
   "source": [
    "print(X1.shape)"
   ]
  },
  {
   "cell_type": "code",
   "execution_count": null,
   "metadata": {},
   "outputs": [],
   "source": [
    "print(X.shape)\n",
    "model = Sequential()\n",
    "model.add(LSTM(16, input_shape = X.shape[1:], return_sequences=True, activation='relu'))\n",
    "model.add(Dropout(0.2))\n",
    "model.add(LSTM(8, return_sequences=False, activation='relu'))\n",
    "model.add(Dropout(0.2))\n",
    "model.add(Dense(16, activation='relu'))\n",
    "model.add(Dropout(0.2))\n",
    "model.add(Dense(8, activation='relu'))\n",
    "model.add(Dropout(0.2))\n",
    "model.add(Dense(4, activation='softmax'))\n",
    "model.compile(loss = 'categorical_crossentropy', optimizer='adam')\n",
    "print(y, y.shape)\n",
    "print(X, X.shape)"
   ]
  },
  {
   "cell_type": "code",
   "execution_count": null,
   "metadata": {},
   "outputs": [],
   "source": [
    "X_tr, X_ts, y_tr, y_ts = splt(X, yy, test_size=0.25, random_state=42)\n",
    "es = EarlyStopping(patience = 20, restore_best_weights = True)\n",
    "history = model.fit(X_tr, y_tr, validation_data=(X_ts, y_ts), epochs = 340, callbacks = [es])"
   ]
  },
  {
   "cell_type": "code",
   "execution_count": null,
   "metadata": {},
   "outputs": [],
   "source": []
  },
  {
   "cell_type": "code",
   "execution_count": null,
   "metadata": {},
   "outputs": [],
   "source": []
  }
 ],
 "metadata": {
  "kernelspec": {
   "display_name": "Python [conda env:score] *",
   "language": "python",
   "name": "conda-env-score-py"
  },
  "language_info": {
   "codemirror_mode": {
    "name": "ipython",
    "version": 3
   },
   "file_extension": ".py",
   "mimetype": "text/x-python",
   "name": "python",
   "nbconvert_exporter": "python",
   "pygments_lexer": "ipython3",
   "version": "3.7.3"
  }
 },
 "nbformat": 4,
 "nbformat_minor": 2
}
