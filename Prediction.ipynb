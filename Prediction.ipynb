{
 "cells": [
  {
   "cell_type": "code",
   "execution_count": null,
   "metadata": {},
   "outputs": [],
   "source": [
    "import pickle\n",
    "import os\n",
    "import pandas as pd\n",
    "import numpy as np\n",
    "np.random.seed(42)\n",
    "from sklearn.model_selection import train_test_split as splt\n",
    "import matplotlib.pyplot as plt\n",
    "import keras\n",
    "from keras.models import Sequential\n",
    "from keras.layers import Dense, Dropout, LSTM\n",
    "from keras.callbacks import EarlyStopping\n",
    "import seaborn as sns\n",
    "os.environ[\"CUDA_VISIBLE_DEVICES\"] = \"2\""
   ]
  },
  {
   "cell_type": "code",
   "execution_count": null,
   "metadata": {},
   "outputs": [],
   "source": [
    "df = pd.read_excel(\"Data/Milano_Cleaned_wSCORE.xlsx\")"
   ]
  },
  {
   "cell_type": "code",
   "execution_count": null,
   "metadata": {},
   "outputs": [],
   "source": [
    "df.sort_values(\"date_of_sampling\")\n",
    "df = df.select_dtypes(exclude=['object', 'datetime64'])\n",
    "df = df.drop(labels = ['Unnamed: 0', 'Unnamed: 0.1'], axis=1)\n",
    "df = df.fillna(-1).replace(-1, np.nan).replace(\"-1\", np.nan).replace(-1.0, np.nan)\n",
    "df = df.dropna(how='any', axis=1)"
   ]
  },
  {
   "cell_type": "code",
   "execution_count": null,
   "metadata": {},
   "outputs": [],
   "source": [
    "d = {i: df.loc[df.subject_id == i, df.columns] for i in range(1, df.subject_id.iat[-1])}\n",
    "d = {dx: d[dx] for dx in d if d[dx].shape[0] != 0}\n",
    "X = np.array([np.array(values)[:-1,:-1] for key, values in d.items()])\n",
    "#X = np.array([X[:,:,i]/X[:,:,i].max() for i in range(X.shape[2])])\n",
    "#print(X.shape)\n",
    "#X = np.swapaxes(X, 0, 1)\n",
    "#X = np.swapaxes(X, 1, 2)\n",
    "y = np.array([np.array(values)[-1,-1] for key, values in d.items()])/100"
   ]
  },
  {
   "cell_type": "code",
   "execution_count": null,
   "metadata": {},
   "outputs": [],
   "source": [
    "print(X.shape)\n",
    "model = Sequential()\n",
    "model.add(LSTM(16, input_shape = X.shape[1:], return_sequences=True, activation='relu'))\n",
    "model.add(Dropout(0.2))\n",
    "model.add(LSTM(8, return_sequences=False, activation='relu'))\n",
    "model.add(Dropout(0.2))\n",
    "model.add(Dense(16, activation='relu'))\n",
    "model.add(Dropout(0.2))\n",
    "model.add(Dense(8, activation='relu'))\n",
    "model.add(Dropout(0.2))\n",
    "model.add(Dense(1, activation='sigmoid'))\n",
    "model.compile(loss = 'mean_squared_error', optimizer='adam')\n",
    "print(y, y.shape)\n",
    "print(X, X.shape)"
   ]
  },
  {
   "cell_type": "code",
   "execution_count": null,
   "metadata": {},
   "outputs": [],
   "source": [
    "X_tr, X_ts, y_tr, y_ts = splt(X, y, test_size=0.25, random_state=42)\n",
    "es = EarlyStopping(patience = 20, restore_best_weights = True)\n",
    "history = model.fit(X_tr, y_tr, validation_data=(X_ts, y_ts), epochs = 340, callbacks = [es])"
   ]
  },
  {
   "cell_type": "code",
   "execution_count": null,
   "metadata": {},
   "outputs": [],
   "source": []
  },
  {
   "cell_type": "code",
   "execution_count": null,
   "metadata": {},
   "outputs": [],
   "source": []
  }
 ],
 "metadata": {
  "kernelspec": {
   "display_name": "Python [conda env:score] *",
   "language": "python",
   "name": "conda-env-score-py"
  },
  "language_info": {
   "codemirror_mode": {
    "name": "ipython",
    "version": 3
   },
   "file_extension": ".py",
   "mimetype": "text/x-python",
   "name": "python",
   "nbconvert_exporter": "python",
   "pygments_lexer": "ipython3",
   "version": "3.7.3"
  }
 },
 "nbformat": 4,
 "nbformat_minor": 2
}
